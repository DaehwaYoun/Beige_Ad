{
 "cells": [
  {
   "cell_type": "code",
   "execution_count": 45,
   "metadata": {},
   "outputs": [],
   "source": [
    "Project = '/Users/daehwa/Library/CloudStorage/OneDrive-Personal/Junlab/Projects/Adipocyte'\n",
    "\n",
    "import pandas as pd\n",
    "import numpy as np\n",
    "import matplotlib.pyplot as plt\n",
    "import matplotlib as mpl\n",
    "import seaborn as sns\n",
    "import matplotlib.gridspec as gridspec\n",
    "from matplotlib.colors import ListedColormap\n",
    "\n",
    "plt.rcParams.update(plt.rcParamsDefault)\n",
    "\n",
    "mpl.rcParams['font.sans-serif'] = \"Arial\"\n",
    "mpl.rcParams['font.family'] = \"sans-serif\"\n",
    "\n",
    "plt.rcParams['ps.useafm']=True\n",
    "plt.rcParams['pdf.fonttype']=42\n",
    "\n",
    "plt.rc('font', size=7)          # controls default text sizes\n",
    "plt.rc('axes', titlesize=7)     # fontsize of the axes title\n",
    "plt.rc('axes', labelsize=7)    # fontsize of the x and y labels\n",
    "plt.rc('xtick', labelsize=6)    # fontsize of the tick labels\n",
    "plt.rc('ytick', labelsize=6)    # fontsize of the tick labels\n",
    "plt.rc('legend', fontsize=6)    # legend fontsize\n",
    "suptitlesize = 7\n",
    "\n",
    "plt.rc('axes', axisbelow=True) #push axes to back\n",
    "mpl.rcParams['axes.linewidth'] = 0.5"
   ]
  },
  {
   "attachments": {},
   "cell_type": "markdown",
   "metadata": {},
   "source": [
    "# MitoCarta parsing"
   ]
  },
  {
   "cell_type": "code",
   "execution_count": 46,
   "metadata": {},
   "outputs": [
    {
     "data": {
      "application/vnd.microsoft.datawrangler.viewer.v0+json": {
       "columns": [
        {
         "name": "MitoPathway",
         "rawType": "object",
         "type": "string"
        },
        {
         "name": "MitoPathway Hierarchy",
         "rawType": "object",
         "type": "string"
        },
        {
         "name": "Genes",
         "rawType": "object",
         "type": "string"
        },
        {
         "name": "PW level",
         "rawType": "int64",
         "type": "integer"
        },
        {
         "name": "EnsemblGeneIDs",
         "rawType": "object",
         "type": "string"
        }
       ],
       "conversionMethod": "pd.DataFrame",
       "ref": "5406acdc-153a-4a4c-86b1-abd38a4d82a9",
       "rows": [
        [
         "Mitochondrial central dogma",
         "Mitochondrial central dogma",
         "2810006K23Rik, Aars2, Alkbh1, Angel2, Apex1, Atad3a, Aurkaip1, Cars2, Cdk5rap1, Chchd1, Coa3, Cox14, Dap3, Dars2, Ddx28, Dhx30, Dna2, Dus2, Ears2, Elac2, Endog, Eral1, Exd2, Exog, Fars2, Fastk, Fastkd1, Fastkd2, Fastkd3, Fastkd5, Gadd45gip1, Gars, Gatb, Gatc, Gfm1, Gfm2, Grsf1, Gtpbp10, Gtpbp3, Guf1, Hars2, Hemk1, Hsd17b10, Iars2, Kars, Lactb2, Lars2, Lig3, Lrpprc, Malsu1, Mars2, Metap1d, Mettl15, Mettl17, Mettl4, Mettl5, Mettl8, Mgme1, Mief1, Mpv17l2, Mrm1, Mrm2, Mrm3, Mrpl1, Mrpl10, Mrpl11, Mrpl12, Mrpl13, Mrpl14, Mrpl15, Mrpl16, Mrpl17, Mrpl18, Mrpl19, Mrpl2, Mrpl20, Mrpl21, Mrpl22, Mrpl23, Mrpl24, Mrpl27, Mrpl28, Mrpl3, Mrpl30, Mrpl32, Mrpl33, Mrpl34, Mrpl35, Mrpl36, Mrpl37, Mrpl38, Mrpl39, Mrpl4, Mrpl40, Mrpl41, Mrpl42, Mrpl43, Mrpl44, Mrpl45, Mrpl46, Mrpl47, Mrpl48, Mrpl49, Mrpl50, Mrpl51, Mrpl52, Mrpl53, Mrpl54, Mrpl55, Mrpl57, Mrpl58, Mrpl9, Mrps10, Mrps11, Mrps12, Mrps14, Mrps15, Mrps16, Mrps17, Mrps18a, Mrps18b, Mrps18c, Mrps2, Mrps21, Mrps22, Mrps23, Mrps24, Mrps25, Mrps26, Mrps27, Mrps28, Mrps30, Mrps31, Mrps33, Mrps34, Mrps35, Mrps36, Mrps5, Mrps6, Mrps7, Mrps9, Mrrf, Mterf1a, Mterf1b, Mterf2, Mterf3, Mterf4, Mtfmt, Mtg1, Mtg2, Mtif2, Mtif3, Mto1, Mtpap, Mtres1, Mtrf1, Mtrf1l, Mutyh, Myg1, Nars2, Ngrn, Noa1, Nsun2, Nsun3, Nsun4, Ogg1, Osgepl1, Oxa1l, Pars2, Pde12, Pdf, Pif1, Pnpt1, Polb, Poldip2, Polg, Polg2, Polq, Polrmt, Ppa2, Primpol, Prorp, Ptcd1, Ptcd2, Ptcd3, Pus1, Pusl1, Qrsl1, Qtrt1, Rars2, Rbfa, Rcc1l, Recql4, Rexo2, Rmnd1, Rnaseh1, Rpusd3, Rpusd4, Sars2, Slirp, Ssbp1, Supv3l1, Taco1, Tars2, Tbrg4, Tefm, Tfam, Tfb1m, Tfb2m, Thg1l, Timm21, Top1mt, Top3a, Trit1, Trmt1, Trmt10c, Trmt2b, Trmt5, Trmu, Trnt1, Trub2, Tsfm, Tufm, Twnk, Ung, Vars2, Wars2, Yars2, Ybey, Yrdc",
         "1",
         "ENSMUSG00000047635,ENSMUSG00000023938,ENSMUSG00000079036,ENSMUSG00000026634,ENSMUSG00000035960,ENSMUSG00000029036,ENSMUSG00000065990,ENSMUSG00000056228,ENSMUSG00000027487,ENSMUSG00000063787,ENSMUSG00000017188,ENSMUSG00000023020,ENSMUSG00000068921,ENSMUSG00000026709,ENSMUSG00000045538,ENSMUSG00000032480,ENSMUSG00000036875,ENSMUSG00000031901,ENSMUSG00000030871,ENSMUSG00000020549,ENSMUSG00000015337,ENSMUSG00000020832,ENSMUSG00000032705,ENSMUSG00000042787,ENSMUSG00000021420,ENSMUSG00000028959,ENSMUSG00000027086,ENSMUSG00000025962,ENSMUSG00000021532,ENSMUSG00000079043,ENSMUSG00000033751,ENSMUSG00000029777,ENSMUSG00000028085,ENSMUSG00000029536,ENSMUSG00000027774,ENSMUSG00000021666,ENSMUSG00000044221,ENSMUSG00000040464,ENSMUSG00000007610,ENSMUSG00000029208,ENSMUSG00000019143,ENSMUSG00000032579,ENSMUSG00000025260,ENSMUSG00000026618,ENSMUSG00000031948,ENSMUSG00000025937,ENSMUSG00000035202,ENSMUSG00000020697,ENSMUSG00000024120,ENSMUSG00000029815,ENSMUSG00000046994,ENSMUSG00000041921,ENSMUSG00000057234,ENSMUSG00000004561,ENSMUSG00000055660,ENSMUSG00000051730,ENSMUSG00000041975,ENSMUSG00000027424,ENSMUSG00000022412,ENSMUSG00000035559,ENSMUSG00000018405,ENSMUSG00000029557,ENSMUSG00000038046,ENSMUSG00000029486,ENSMUSG00000001445,ENSMUSG00000024902,ENSMUSG00000039640,ENSMUSG00000022370,ENSMUSG00000023939,ENSMUSG00000033845,ENSMUSG00000024683,ENSMUSG00000030879,ENSMUSG00000057388,ENSMUSG00000030045,ENSMUSG00000002767,ENSMUSG00000029066,ENSMUSG00000024829,ENSMUSG00000020514,ENSMUSG00000037772,ENSMUSG00000019710,ENSMUSG00000024414,ENSMUSG00000024181,ENSMUSG00000032563,ENSMUSG00000026087,ENSMUSG00000015672,ENSMUSG00000029142,ENSMUSG00000034880,ENSMUSG00000052962,ENSMUSG00000021607,ENSMUSG00000028622,ENSMUSG00000020775,ENSMUSG00000022889,ENSMUSG00000003299,ENSMUSG00000022706,ENSMUSG00000036850,ENSMUSG00000062981,ENSMUSG00000025208,ENSMUSG00000026248,ENSMUSG00000018882,ENSMUSG00000030612,ENSMUSG00000037531,ENSMUSG00000030706,ENSMUSG00000007338,ENSMUSG00000044018,ENSMUSG00000030335,ENSMUSG00000010406,ENSMUSG00000030037,ENSMUSG00000034932,ENSMUSG00000036860,ENSMUSG00000021967,ENSMUSG00000018858,ENSMUSG00000028140,ENSMUSG00000034729,ENSMUSG00000030611,ENSMUSG00000045948,ENSMUSG00000058267,ENSMUSG00000028861,ENSMUSG00000049960,ENSMUSG00000034211,ENSMUSG00000023967,ENSMUSG00000024436,ENSMUSG00000016833,ENSMUSG00000035772,ENSMUSG00000054312,ENSMUSG00000032459,ENSMUSG00000023723,ENSMUSG00000020477,ENSMUSG00000014551,ENSMUSG00000037740,ENSMUSG00000041632,ENSMUSG00000040269,ENSMUSG00000021731,ENSMUSG00000031533,ENSMUSG00000029918,ENSMUSG00000038880,ENSMUSG00000040112,ENSMUSG00000061474,ENSMUSG00000027374,ENSMUSG00000039680,ENSMUSG00000046756,ENSMUSG00000060679,ENSMUSG00000026887,ENSMUSG00000040429,ENSMUSG00000053178,ENSMUSG00000049038,ENSMUSG00000021519,ENSMUSG00000026273,ENSMUSG00000059183,ENSMUSG00000039018,ENSMUSG00000039069,ENSMUSG00000020459,ENSMUSG00000016510,ENSMUSG00000032342,ENSMUSG00000024234,ENSMUSG00000019797,ENSMUSG00000022022,ENSMUSG00000019774,ENSMUSG00000028687,ENSMUSG00000001285,ENSMUSG00000018995,ENSMUSG00000047084,ENSMUSG00000036285,ENSMUSG00000021595,ENSMUSG00000050312,ENSMUSG00000028706,ENSMUSG00000030271,ENSMUSG00000026096,ENSMUSG00000000959,ENSMUSG00000043572,ENSMUSG00000043702,ENSMUSG00000078931,ENSMUSG00000041064,ENSMUSG00000020464,ENSMUSG00000031536,ENSMUSG00000001100,ENSMUSG00000039176,ENSMUSG00000020718,ENSMUSG00000034206,ENSMUSG00000020329,ENSMUSG00000028013,ENSMUSG00000038225,ENSMUSG00000021023,ENSMUSG00000029624,ENSMUSG00000021650,ENSMUSG00000063884,ENSMUSG00000029507,ENSMUSG00000051557,ENSMUSG00000019863,ENSMUSG00000002825,ENSMUSG00000028292,ENSMUSG00000024570,ENSMUSG00000061979,ENSMUSG00000033762,ENSMUSG00000032026,ENSMUSG00000019763,ENSMUSG00000020630,ENSMUSG00000051169,ENSMUSG00000032044,ENSMUSG00000070699,ENSMUSG00000021040,ENSMUSG00000029911,ENSMUSG00000020079,ENSMUSG00000001983,ENSMUSG00000028107,ENSMUSG00000000384,ENSMUSG00000046909,ENSMUSG00000003923,ENSMUSG00000036983,ENSMUSG00000026492,ENSMUSG00000011254,ENSMUSG00000024645,ENSMUSG00000000934,ENSMUSG00000002814,ENSMUSG00000028653,ENSMUSG00000001909,ENSMUSG00000044763,ENSMUSG00000067369,ENSMUSG00000034442,ENSMUSG00000022386,ENSMUSG00000013736,ENSMUSG00000039826,ENSMUSG00000040521,ENSMUSG00000073838,ENSMUSG00000025209,ENSMUSG00000029591,ENSMUSG00000038838,ENSMUSG00000004233,ENSMUSG00000022792,ENSMUSG00000033126,ENSMUSG00000028889"
        ],
        [
         "mtDNA maintenance",
         "Mitochondrial central dogma > mtDNA maintenance",
         "Apex1, Atad3a, Dna2, Endog, Exog, Lig3, Mettl4, Mgme1, Mterf1a, Mterf1b, Mterf2, Mutyh, Ogg1, Pif1, Polb, Poldip2, Polg, Polg2, Polq, Polrmt, Ppa2, Primpol, Recql4, Rnaseh1, Ssbp1, Tfam, Tfb2m, Top1mt, Top3a, Twnk, Ung",
         "2",
         "ENSMUSG00000035960,ENSMUSG00000029036,ENSMUSG00000036875,ENSMUSG00000015337,ENSMUSG00000042787,ENSMUSG00000020697,ENSMUSG00000055660,ENSMUSG00000027424,ENSMUSG00000040429,ENSMUSG00000053178,ENSMUSG00000049038,ENSMUSG00000028687,ENSMUSG00000030271,ENSMUSG00000041064,ENSMUSG00000031536,ENSMUSG00000001100,ENSMUSG00000039176,ENSMUSG00000020718,ENSMUSG00000034206,ENSMUSG00000020329,ENSMUSG00000028013,ENSMUSG00000038225,ENSMUSG00000033762,ENSMUSG00000020630,ENSMUSG00000029911,ENSMUSG00000003923,ENSMUSG00000026492,ENSMUSG00000000934,ENSMUSG00000002814,ENSMUSG00000025209,ENSMUSG00000029591"
        ],
        [
         "mtDNA replication",
         "Mitochondrial central dogma > mtDNA maintenance > mtDNA replication",
         "Dna2, Exog, Lig3, Mgme1, Polg, Polg2, Polrmt, Rnaseh1, Ssbp1, Tfam, Tfb2m, Top1mt, Top3a, Twnk",
         "3",
         "ENSMUSG00000036875,ENSMUSG00000042787,ENSMUSG00000020697,ENSMUSG00000027424,ENSMUSG00000039176,ENSMUSG00000020718,ENSMUSG00000020329,ENSMUSG00000020630,ENSMUSG00000029911,ENSMUSG00000003923,ENSMUSG00000026492,ENSMUSG00000000934,ENSMUSG00000002814,ENSMUSG00000025209"
        ],
        [
         "mtDNA nucleoid",
         "Mitochondrial central dogma > mtDNA maintenance > mtDNA nucleoid",
         "Atad3a, Mterf1a, Mterf1b, Mterf2, Poldip2, Polg, Polg2, Polrmt, Ssbp1, Tfam, Twnk",
         "3",
         "ENSMUSG00000029036,ENSMUSG00000040429,ENSMUSG00000053178,ENSMUSG00000049038,ENSMUSG00000001100,ENSMUSG00000039176,ENSMUSG00000020718,ENSMUSG00000020329,ENSMUSG00000029911,ENSMUSG00000003923,ENSMUSG00000025209"
        ],
        [
         "mtDNA repair",
         "Mitochondrial central dogma > mtDNA maintenance > mtDNA repair",
         "Apex1, Exog, Lig3, Ogg1, Polb, Polg, Primpol, Recql4, Ung",
         "3",
         "ENSMUSG00000035960,ENSMUSG00000042787,ENSMUSG00000020697,ENSMUSG00000030271,ENSMUSG00000031536,ENSMUSG00000039176,ENSMUSG00000038225,ENSMUSG00000033762,ENSMUSG00000029591"
        ]
       ],
       "shape": {
        "columns": 4,
        "rows": 5
       }
      },
      "text/html": [
       "<div>\n",
       "<style scoped>\n",
       "    .dataframe tbody tr th:only-of-type {\n",
       "        vertical-align: middle;\n",
       "    }\n",
       "\n",
       "    .dataframe tbody tr th {\n",
       "        vertical-align: top;\n",
       "    }\n",
       "\n",
       "    .dataframe thead th {\n",
       "        text-align: right;\n",
       "    }\n",
       "</style>\n",
       "<table border=\"1\" class=\"dataframe\">\n",
       "  <thead>\n",
       "    <tr style=\"text-align: right;\">\n",
       "      <th></th>\n",
       "      <th>MitoPathway Hierarchy</th>\n",
       "      <th>Genes</th>\n",
       "      <th>PW level</th>\n",
       "      <th>EnsemblGeneIDs</th>\n",
       "    </tr>\n",
       "    <tr>\n",
       "      <th>MitoPathway</th>\n",
       "      <th></th>\n",
       "      <th></th>\n",
       "      <th></th>\n",
       "      <th></th>\n",
       "    </tr>\n",
       "  </thead>\n",
       "  <tbody>\n",
       "    <tr>\n",
       "      <th>Mitochondrial central dogma</th>\n",
       "      <td>Mitochondrial central dogma</td>\n",
       "      <td>2810006K23Rik, Aars2, Alkbh1, Angel2, Apex1, A...</td>\n",
       "      <td>1</td>\n",
       "      <td>ENSMUSG00000047635,ENSMUSG00000023938,ENSMUSG0...</td>\n",
       "    </tr>\n",
       "    <tr>\n",
       "      <th>mtDNA maintenance</th>\n",
       "      <td>Mitochondrial central dogma &gt; mtDNA maintenance</td>\n",
       "      <td>Apex1, Atad3a, Dna2, Endog, Exog, Lig3, Mettl4...</td>\n",
       "      <td>2</td>\n",
       "      <td>ENSMUSG00000035960,ENSMUSG00000029036,ENSMUSG0...</td>\n",
       "    </tr>\n",
       "    <tr>\n",
       "      <th>mtDNA replication</th>\n",
       "      <td>Mitochondrial central dogma &gt; mtDNA maintenanc...</td>\n",
       "      <td>Dna2, Exog, Lig3, Mgme1, Polg, Polg2, Polrmt, ...</td>\n",
       "      <td>3</td>\n",
       "      <td>ENSMUSG00000036875,ENSMUSG00000042787,ENSMUSG0...</td>\n",
       "    </tr>\n",
       "    <tr>\n",
       "      <th>mtDNA nucleoid</th>\n",
       "      <td>Mitochondrial central dogma &gt; mtDNA maintenanc...</td>\n",
       "      <td>Atad3a, Mterf1a, Mterf1b, Mterf2, Poldip2, Pol...</td>\n",
       "      <td>3</td>\n",
       "      <td>ENSMUSG00000029036,ENSMUSG00000040429,ENSMUSG0...</td>\n",
       "    </tr>\n",
       "    <tr>\n",
       "      <th>mtDNA repair</th>\n",
       "      <td>Mitochondrial central dogma &gt; mtDNA maintenanc...</td>\n",
       "      <td>Apex1, Exog, Lig3, Ogg1, Polb, Polg, Primpol, ...</td>\n",
       "      <td>3</td>\n",
       "      <td>ENSMUSG00000035960,ENSMUSG00000042787,ENSMUSG0...</td>\n",
       "    </tr>\n",
       "  </tbody>\n",
       "</table>\n",
       "</div>"
      ],
      "text/plain": [
       "                                                         MitoPathway Hierarchy  \\\n",
       "MitoPathway                                                                      \n",
       "Mitochondrial central dogma                        Mitochondrial central dogma   \n",
       "mtDNA maintenance              Mitochondrial central dogma > mtDNA maintenance   \n",
       "mtDNA replication            Mitochondrial central dogma > mtDNA maintenanc...   \n",
       "mtDNA nucleoid               Mitochondrial central dogma > mtDNA maintenanc...   \n",
       "mtDNA repair                 Mitochondrial central dogma > mtDNA maintenanc...   \n",
       "\n",
       "                                                                         Genes  \\\n",
       "MitoPathway                                                                      \n",
       "Mitochondrial central dogma  2810006K23Rik, Aars2, Alkbh1, Angel2, Apex1, A...   \n",
       "mtDNA maintenance            Apex1, Atad3a, Dna2, Endog, Exog, Lig3, Mettl4...   \n",
       "mtDNA replication            Dna2, Exog, Lig3, Mgme1, Polg, Polg2, Polrmt, ...   \n",
       "mtDNA nucleoid               Atad3a, Mterf1a, Mterf1b, Mterf2, Poldip2, Pol...   \n",
       "mtDNA repair                 Apex1, Exog, Lig3, Ogg1, Polb, Polg, Primpol, ...   \n",
       "\n",
       "                             PW level  \\\n",
       "MitoPathway                             \n",
       "Mitochondrial central dogma         1   \n",
       "mtDNA maintenance                   2   \n",
       "mtDNA replication                   3   \n",
       "mtDNA nucleoid                      3   \n",
       "mtDNA repair                        3   \n",
       "\n",
       "                                                                EnsemblGeneIDs  \n",
       "MitoPathway                                                                     \n",
       "Mitochondrial central dogma  ENSMUSG00000047635,ENSMUSG00000023938,ENSMUSG0...  \n",
       "mtDNA maintenance            ENSMUSG00000035960,ENSMUSG00000029036,ENSMUSG0...  \n",
       "mtDNA replication            ENSMUSG00000036875,ENSMUSG00000042787,ENSMUSG0...  \n",
       "mtDNA nucleoid               ENSMUSG00000029036,ENSMUSG00000040429,ENSMUSG0...  \n",
       "mtDNA repair                 ENSMUSG00000035960,ENSMUSG00000042787,ENSMUSG0...  "
      ]
     },
     "metadata": {},
     "output_type": "display_data"
    }
   ],
   "source": [
    "MitoCarta3_file = '/Users/daehwa/Library/CloudStorage/OneDrive-Personal/Junlab/Data_Library/MITOCARTA3.0/Mouse.MitoCarta3.0.xls'\n",
    "MitoCarta = pd.read_excel(MitoCarta3_file, 'A Mouse MitoCarta3.0')\n",
    "MitoPW    = pd.read_excel(MitoCarta3_file, 'C MitoPathways')\n",
    "\n",
    "name2EnsgID = MitoCarta[['Symbol','EnsemblGeneID']].set_index('Symbol')['EnsemblGeneID'].to_dict()\n",
    "\n",
    "MitoPW['PW level'] = MitoPW['MitoPathway Hierarchy'].str.split('>').str.len()\n",
    "MitoPW['EnsemblGeneIDs'] = ''\n",
    "for i in range(len(MitoPW)):\n",
    "\n",
    "    # Collecting Ensembl gene IDs\n",
    "    for gene in MitoPW.iloc[i,:]['Genes'].split(', '):\n",
    "        if type(name2EnsgID[gene]) == float : continue\n",
    "        MitoPW.iloc[i,4] += name2EnsgID[gene].replace('|',',') + ','\n",
    "    MitoPW.iloc[i,4] = MitoPW.iloc[i,4][:-1]\n",
    "\n",
    "MitoPW = MitoPW.set_index('MitoPathway',drop=True)\n",
    "display(MitoPW[:5])"
   ]
  },
  {
   "cell_type": "code",
   "execution_count": 47,
   "metadata": {},
   "outputs": [],
   "source": [
    "mtDNA = MitoCarta[['Symbol','EnsemblGeneID']]\n",
    "mtDNA = mtDNA[mtDNA['Symbol'].str.startswith('mt-')].reset_index(drop=True)\n",
    "mtDNA = mtDNA.rename(columns={'Symbol':'gene_name', 'EnsemblGeneID':'gene_id'})[['gene_id']]\n",
    "mtDNA['mtDNA'] = 'mtDNA'\n",
    "# display(mtDNA)"
   ]
  },
  {
   "attachments": {},
   "cell_type": "markdown",
   "metadata": {},
   "source": [
    "# Plotting"
   ]
  },
  {
   "cell_type": "code",
   "execution_count": 48,
   "metadata": {},
   "outputs": [
    {
     "data": {
      "application/vnd.microsoft.datawrangler.viewer.v0+json": {
       "columns": [
        {
         "name": "index",
         "rawType": "int64",
         "type": "integer"
        },
        {
         "name": "gene_id",
         "rawType": "object",
         "type": "string"
        },
        {
         "name": "RD4a",
         "rawType": "float64",
         "type": "float"
        },
        {
         "name": "RD4b",
         "rawType": "float64",
         "type": "float"
        },
        {
         "name": "RD4c",
         "rawType": "float64",
         "type": "float"
        },
        {
         "name": "RD8a",
         "rawType": "float64",
         "type": "float"
        },
        {
         "name": "RD8b",
         "rawType": "float64",
         "type": "float"
        },
        {
         "name": "RD8c",
         "rawType": "float64",
         "type": "float"
        }
       ],
       "conversionMethod": "pd.DataFrame",
       "ref": "3135bc22-d6b8-4819-a162-007c76f2271c",
       "rows": [
        [
         "0",
         "ENSMUSG00000033845",
         "-0.6710033654341315",
         "-0.0690292891903699",
         "-0.1932910599814489",
         "-0.341791586173727",
         "-0.441116695514559",
         "-0.363655818077509"
        ],
        [
         "1",
         "ENSMUSG00000025903",
         "-0.1949138147215545",
         "0.4630906424078336",
         "0.1634854904195021",
         "-0.4649485909270026",
         "0.161577796606111",
         "-0.3351462622964529"
        ],
        [
         "2",
         "ENSMUSG00000033813",
         "-0.0081860623429193",
         "0.401247928377701",
         "0.0620042819810666",
         "0.1680796972044977",
         "0.1654875281046095",
         "0.236005312994096"
        ],
        [
         "3",
         "ENSMUSG00000033793",
         "0.0636435048286578",
         "0.3472897963068346",
         "0.39869575746256",
         "0.0840418553217615",
         "0.3630907634628824",
         "0.4045128538311335"
        ],
        [
         "4",
         "ENSMUSG00000025907",
         "0.1657084381436947",
         "0.3425089302259546",
         "-0.2418155930312294",
         "-0.2349835785991828",
         "-0.6237267869502212",
         "-0.119534806281668"
        ],
        [
         "5",
         "ENSMUSG00000087247",
         "-0.2842222038085252",
         "-1.1413799319638605",
         "-2.501249368787716",
         "2.3235178325344936",
         "-0.2630707124550077",
         "0.8503400494871247"
        ],
        [
         "6",
         "ENSMUSG00000051285",
         "0.5306712821204316",
         "0.5772801336834031",
         "0.1407495731060128",
         "0.0348540617434983",
         "0.4715405598306908",
         "0.4546667066768809"
        ],
        [
         "7",
         "ENSMUSG00000061024",
         "0.0554048364828522",
         "-0.0704160557644866",
         "-0.0280761054169166",
         "0.3340188287521375",
         "0.5382288093373168",
         "0.2329902064852688"
        ],
        [
         "8",
         "ENSMUSG00000025911",
         "-0.082983670681091",
         "0.1111336273467926",
         "-0.0444033263192313",
         "0.3302286992400593",
         "0.9416289613812372",
         "0.4238336950269932"
        ],
        [
         "9",
         "ENSMUSG00000045210",
         "0.0508324234418162",
         "0.2948123431499018",
         "0.1150087144927968",
         "-0.3044515591410071",
         "-0.157068860684407",
         "-0.3847981464758005"
        ],
        [
         "10",
         "ENSMUSG00000025915",
         "-0.0802075446634057",
         "0.5033306194004037",
         "1.227588629322253",
         "0.0189468456397981",
         "1.552011668914164",
         "1.0341359375006054"
        ],
        [
         "11",
         "ENSMUSG00000099032",
         "0.1440566147494404",
         "-0.6689574722779073",
         "0.6607496831259397",
         "-0.0109593989100205",
         "0.4809298574439037",
         "-0.8759611171170049"
        ],
        [
         "12",
         "ENSMUSG00000025917",
         "-0.6857237626641509",
         "-0.0089781907059011",
         "-0.5840934077135264",
         "-0.5915366407956029",
         "-0.4908836256178064",
         "-0.8442319512206469"
        ],
        [
         "13",
         "ENSMUSG00000056763",
         "-0.2855769989892531",
         "-0.0402228874561637",
         "-0.4380038217607768",
         "-0.5432441453544711",
         "-0.0733144421526311",
         "-0.7333366843342792"
        ],
        [
         "14",
         "ENSMUSG00000067851",
         "-0.258507142427368",
         "0.1192662321764428",
         "-0.3495421155373631",
         "-1.1070535646580677",
         "-1.1535532130725816",
         "-1.0332998952560415"
        ],
        [
         "15",
         "ENSMUSG00000042501",
         "0.9697192697331516",
         "-0.787067129551103",
         "1.3967029450125188",
         "-0.3856964428376723",
         "1.0079425507403676",
         "-1.3747744550746483"
        ],
        [
         "16",
         "ENSMUSG00000057715",
         "0.4090918730779244",
         "-1.244579255990383",
         "-1.5965699624251837",
         "-0.0136814575522472",
         "-1.4005045477446587",
         "-1.824152445667571"
        ],
        [
         "17",
         "ENSMUSG00000016918",
         "0.9326428276409968",
         "0.4272822681030034",
         "0.4148363978735097",
         "0.2118129831938183",
         "0.5797286787272998",
         "1.1117985044873744"
        ],
        [
         "18",
         "ENSMUSG00000025938",
         "1.2798103280386954",
         "-0.2923459243516992",
         "-1.8447304081722953",
         "0.0428845572580643",
         "-0.6294371061173198",
         "0.5820370492272756"
        ],
        [
         "19",
         "ENSMUSG00000005886",
         "1.053088497299255",
         "0.159877050480424",
         "0.6387668966759449",
         "0.743963955864761",
         "1.0395529461111783",
         "0.9056832434510584"
        ],
        [
         "20",
         "ENSMUSG00000025935",
         "0.1325717520455831",
         "0.2905479212101331",
         "0.2571255572948351",
         "-0.2753839995253814",
         "0.0689094378416976",
         "0.0989582715373121"
        ],
        [
         "21",
         "ENSMUSG00000025937",
         "0.2546077679994072",
         "0.1892948787100268",
         "0.487671572130357",
         "0.4251620669022989",
         "0.5379332596892047",
         "0.5519087702499758"
        ],
        [
         "22",
         "ENSMUSG00000025925",
         "0.0869518148684937",
         "0.4194951684516592",
         "0.7067002994312034",
         "-0.4580106635908675",
         "-0.351844927187837",
         "1.1201083572569024"
        ],
        [
         "23",
         "ENSMUSG00000043716",
         "-0.0522929923173894",
         "0.1764455801035741",
         "0.536084558335188",
         "0.223433716275186",
         "-0.513845221935384",
         "-0.0557439749793178"
        ],
        [
         "24",
         "ENSMUSG00000025921",
         "0.4270204689575901",
         "0.5878097671981479",
         "0.7630567531766613",
         "0.4075338823145647",
         "0.7640285316317723",
         "0.7258086728741071"
        ],
        [
         "25",
         "ENSMUSG00000025920",
         "0.2034495500500825",
         "0.575515222046916",
         "0.2415550349853056",
         "-0.2273124856420021",
         "0.4857705572892133",
         "0.4244177141950336"
        ],
        [
         "26",
         "ENSMUSG00000025939",
         "-0.296468963783063",
         "0.0757867586278273",
         "-0.1109559074480483",
         "-0.2271259981837965",
         "-0.1126982580421691",
         "-0.0947187353363867"
        ],
        [
         "27",
         "ENSMUSG00000079658",
         "-0.4423410585960849",
         "-0.1427848281426775",
         "-0.1534404320967459",
         "-0.6144089330810094",
         "-0.4837839218213011",
         "-0.1104412640978589"
        ],
        [
         "28",
         "ENSMUSG00000025940",
         "0.4594482036516923",
         "0.210080943921793",
         "0.6333487227772465",
         "0.7577043941507984",
         "0.9504941063130868",
         "1.0003689397179638"
        ],
        [
         "29",
         "ENSMUSG00000025779",
         "0.1732829504061571",
         "0.3679803035981742",
         "0.2856814879486644",
         "-0.2119261027507619",
         "-0.0001941349158292",
         "-0.0233741151925453"
        ],
        [
         "30",
         "ENSMUSG00000042686",
         "-0.0086174665375984",
         "0.3000077454187998",
         "0.0138223322624871",
         "0.3040485071291802",
         "0.3820163808838693",
         "0.6049612917764671"
        ],
        [
         "31",
         "ENSMUSG00000067780",
         "0.3896079539639843",
         "0.5536787557924554",
         "0.4873906053747009",
         "-0.03974603401503",
         "0.3970453459483075",
         "0.057606484097419"
        ],
        [
         "32",
         "ENSMUSG00000041859",
         "-0.1752417701132177",
         "-0.2077040827475037",
         "0.0764547425820204",
         "-0.4362882211272864",
         "-0.1660782687496901",
         "-0.0005497517057921"
        ],
        [
         "33",
         "ENSMUSG00000025931",
         "0.7604968494083382",
         "0.0573357082636559",
         "1.385301241730959",
         "-0.1488815526345455",
         "0.7049713309102253",
         "1.4348954543570431"
        ],
        [
         "34",
         "ENSMUSG00000041809",
         "0.5213489777400666",
         "0.2563433206860953",
         "0.3027570744812941",
         "0.082247170402164",
         "-0.4235981919597636",
         "0.1241320396680177"
        ],
        [
         "35",
         "ENSMUSG00000041779",
         "0.4755078584072678",
         "0.2181326304414578",
         "0.1855837353642475",
         "-0.2761961613443727",
         "0.2412371391203883",
         "0.4514237469464794"
        ],
        [
         "36",
         "ENSMUSG00000025933",
         "-0.3925430086422595",
         "0.0703118243152373",
         "-0.1184613818119598",
         "0.0018081184596804",
         "0.1788192282278886",
         "-0.2170322363507936"
        ],
        [
         "37",
         "ENSMUSG00000025934",
         "0.2640994504936086",
         "1.3440500700630094",
         "0.4086543121770716",
         "0.9587273036568958",
         "0.4816867831262707",
         "-0.1951242026669437"
        ],
        [
         "38",
         "ENSMUSG00000026155",
         "0.6103540933504916",
         "0.7106267042679492",
         "0.6360619177423393",
         "0.1389416170401111",
         "1.0965626707482865",
         "0.6210860187384235"
        ],
        [
         "39",
         "ENSMUSG00000026154",
         "-0.251426178606173",
         "-0.0606119566535136",
         "-0.4039628457523418",
         "0.1286992780530388",
         "-0.0695546903646346",
         "-0.5733657783788308"
        ],
        [
         "40",
         "ENSMUSG00000026153",
         "-0.1933977902944239",
         "0.1150117328012728",
         "-0.2826855170622211",
         "-0.2812329555862788",
         "-0.8013957683406324",
         "-0.3555108187512207"
        ],
        [
         "41",
         "ENSMUSG00000073725",
         "0.452335892496761",
         "0.5232473142317293",
         "0.4933647665604777",
         "0.3041573443579476",
         "0.6899451232040681",
         "0.5564506675765171"
        ],
        [
         "42",
         "ENSMUSG00000048874",
         "-0.2482720462319264",
         "0.0884538023723278",
         "-0.5804470092469715",
         "-0.5387968976537889",
         "-0.2111016133260906",
         "-0.3872835652885806"
        ],
        [
         "43",
         "ENSMUSG00000026134",
         "0.2211341917066735",
         "0.5298619171188539",
         "-0.3200502973372561",
         "0.2973559117012275",
         "0.9584018873030168",
         "0.1971747635407186"
        ],
        [
         "44",
         "ENSMUSG00000004768",
         "0.1840233705470858",
         "0.2593878338599725",
         "-0.1380584533574619",
         "0.2075045671467962",
         "0.4758134329755293",
         "0.0488459497809463"
        ],
        [
         "45",
         "ENSMUSG00000042215",
         "-0.1593907690373512",
         "-0.1837371240762071",
         "-0.084090592458367",
         "0.0800808213802019",
         "-0.1447215328553363",
         "0.3123229937369302"
        ],
        [
         "46",
         "ENSMUSG00000042197",
         "0.1931965503951622",
         "0.1105422111976502",
         "0.1053877845050771",
         "-0.2512459023600987",
         "-0.0897401834490377",
         "-0.168611793385732"
        ],
        [
         "47",
         "ENSMUSG00000042182",
         "-0.5578248415281171",
         "-0.3742016403835619",
         "2.645504057087122",
         "-0.2608075226335862",
         "-1.1229600714133616",
         "-0.3173645057641482"
        ],
        [
         "48",
         "ENSMUSG00000026131",
         "0.3006659834594125",
         "0.1995236491178638",
         "-0.2268872215842902",
         "-0.2480887486104324",
         "-0.0104834587860949",
         "-0.2131858104561201"
        ],
        [
         "49",
         "ENSMUSG00000042111",
         "-0.0357237263950644",
         "-0.3198114303087968",
         "0.3392456890138207",
         "0.4240424666311227",
         "0.0821865753519713",
         "0.4480456983331266"
        ]
       ],
       "shape": {
        "columns": 7,
        "rows": 11810
       }
      },
      "text/html": [
       "<div>\n",
       "<style scoped>\n",
       "    .dataframe tbody tr th:only-of-type {\n",
       "        vertical-align: middle;\n",
       "    }\n",
       "\n",
       "    .dataframe tbody tr th {\n",
       "        vertical-align: top;\n",
       "    }\n",
       "\n",
       "    .dataframe thead th {\n",
       "        text-align: right;\n",
       "    }\n",
       "</style>\n",
       "<table border=\"1\" class=\"dataframe\">\n",
       "  <thead>\n",
       "    <tr style=\"text-align: right;\">\n",
       "      <th></th>\n",
       "      <th>gene_id</th>\n",
       "      <th>RD4a</th>\n",
       "      <th>RD4b</th>\n",
       "      <th>RD4c</th>\n",
       "      <th>RD8a</th>\n",
       "      <th>RD8b</th>\n",
       "      <th>RD8c</th>\n",
       "    </tr>\n",
       "  </thead>\n",
       "  <tbody>\n",
       "    <tr>\n",
       "      <th>0</th>\n",
       "      <td>ENSMUSG00000033845</td>\n",
       "      <td>-0.671003</td>\n",
       "      <td>-0.069029</td>\n",
       "      <td>-0.193291</td>\n",
       "      <td>-0.341792</td>\n",
       "      <td>-0.441117</td>\n",
       "      <td>-0.363656</td>\n",
       "    </tr>\n",
       "    <tr>\n",
       "      <th>1</th>\n",
       "      <td>ENSMUSG00000025903</td>\n",
       "      <td>-0.194914</td>\n",
       "      <td>0.463091</td>\n",
       "      <td>0.163485</td>\n",
       "      <td>-0.464949</td>\n",
       "      <td>0.161578</td>\n",
       "      <td>-0.335146</td>\n",
       "    </tr>\n",
       "    <tr>\n",
       "      <th>2</th>\n",
       "      <td>ENSMUSG00000033813</td>\n",
       "      <td>-0.008186</td>\n",
       "      <td>0.401248</td>\n",
       "      <td>0.062004</td>\n",
       "      <td>0.168080</td>\n",
       "      <td>0.165488</td>\n",
       "      <td>0.236005</td>\n",
       "    </tr>\n",
       "    <tr>\n",
       "      <th>3</th>\n",
       "      <td>ENSMUSG00000033793</td>\n",
       "      <td>0.063644</td>\n",
       "      <td>0.347290</td>\n",
       "      <td>0.398696</td>\n",
       "      <td>0.084042</td>\n",
       "      <td>0.363091</td>\n",
       "      <td>0.404513</td>\n",
       "    </tr>\n",
       "    <tr>\n",
       "      <th>4</th>\n",
       "      <td>ENSMUSG00000025907</td>\n",
       "      <td>0.165708</td>\n",
       "      <td>0.342509</td>\n",
       "      <td>-0.241816</td>\n",
       "      <td>-0.234984</td>\n",
       "      <td>-0.623727</td>\n",
       "      <td>-0.119535</td>\n",
       "    </tr>\n",
       "    <tr>\n",
       "      <th>...</th>\n",
       "      <td>...</td>\n",
       "      <td>...</td>\n",
       "      <td>...</td>\n",
       "      <td>...</td>\n",
       "      <td>...</td>\n",
       "      <td>...</td>\n",
       "      <td>...</td>\n",
       "    </tr>\n",
       "    <tr>\n",
       "      <th>11805</th>\n",
       "      <td>ENSMUSG00000064360</td>\n",
       "      <td>0.019150</td>\n",
       "      <td>1.072969</td>\n",
       "      <td>-1.775453</td>\n",
       "      <td>-1.965660</td>\n",
       "      <td>-2.617272</td>\n",
       "      <td>-2.638280</td>\n",
       "    </tr>\n",
       "    <tr>\n",
       "      <th>11806</th>\n",
       "      <td>ENSMUSG00000064363</td>\n",
       "      <td>-1.840285</td>\n",
       "      <td>-0.182261</td>\n",
       "      <td>-1.046066</td>\n",
       "      <td>-1.764191</td>\n",
       "      <td>-0.912711</td>\n",
       "      <td>-1.274588</td>\n",
       "    </tr>\n",
       "    <tr>\n",
       "      <th>11807</th>\n",
       "      <td>ENSMUSG00000064367</td>\n",
       "      <td>-0.629857</td>\n",
       "      <td>0.198241</td>\n",
       "      <td>-0.824479</td>\n",
       "      <td>-0.826304</td>\n",
       "      <td>-0.370965</td>\n",
       "      <td>-0.510705</td>\n",
       "    </tr>\n",
       "    <tr>\n",
       "      <th>11808</th>\n",
       "      <td>ENSMUSG00000064368</td>\n",
       "      <td>-0.901645</td>\n",
       "      <td>-0.145785</td>\n",
       "      <td>-0.779583</td>\n",
       "      <td>-0.715231</td>\n",
       "      <td>0.115233</td>\n",
       "      <td>-0.355842</td>\n",
       "    </tr>\n",
       "    <tr>\n",
       "      <th>11809</th>\n",
       "      <td>ENSMUSG00000064370</td>\n",
       "      <td>-1.650298</td>\n",
       "      <td>-0.346995</td>\n",
       "      <td>-0.742228</td>\n",
       "      <td>-1.722872</td>\n",
       "      <td>-1.001198</td>\n",
       "      <td>-1.167205</td>\n",
       "    </tr>\n",
       "  </tbody>\n",
       "</table>\n",
       "<p>11810 rows × 7 columns</p>\n",
       "</div>"
      ],
      "text/plain": [
       "                  gene_id      RD4a      RD4b      RD4c      RD8a      RD8b  \\\n",
       "0      ENSMUSG00000033845 -0.671003 -0.069029 -0.193291 -0.341792 -0.441117   \n",
       "1      ENSMUSG00000025903 -0.194914  0.463091  0.163485 -0.464949  0.161578   \n",
       "2      ENSMUSG00000033813 -0.008186  0.401248  0.062004  0.168080  0.165488   \n",
       "3      ENSMUSG00000033793  0.063644  0.347290  0.398696  0.084042  0.363091   \n",
       "4      ENSMUSG00000025907  0.165708  0.342509 -0.241816 -0.234984 -0.623727   \n",
       "...                   ...       ...       ...       ...       ...       ...   \n",
       "11805  ENSMUSG00000064360  0.019150  1.072969 -1.775453 -1.965660 -2.617272   \n",
       "11806  ENSMUSG00000064363 -1.840285 -0.182261 -1.046066 -1.764191 -0.912711   \n",
       "11807  ENSMUSG00000064367 -0.629857  0.198241 -0.824479 -0.826304 -0.370965   \n",
       "11808  ENSMUSG00000064368 -0.901645 -0.145785 -0.779583 -0.715231  0.115233   \n",
       "11809  ENSMUSG00000064370 -1.650298 -0.346995 -0.742228 -1.722872 -1.001198   \n",
       "\n",
       "           RD8c  \n",
       "0     -0.363656  \n",
       "1     -0.335146  \n",
       "2      0.236005  \n",
       "3      0.404513  \n",
       "4     -0.119535  \n",
       "...         ...  \n",
       "11805 -2.638280  \n",
       "11806 -1.274588  \n",
       "11807 -0.510705  \n",
       "11808 -0.355842  \n",
       "11809 -1.167205  \n",
       "\n",
       "[11810 rows x 7 columns]"
      ]
     },
     "metadata": {},
     "output_type": "display_data"
    }
   ],
   "source": [
    "RD = pd.read_csv(f'{Project}/Results/Tables/CPM_RD_calculation/v20221217/adi_RD_log2FC.tsv', sep='\\t').drop(columns='gene_name')\n",
    "\n",
    "display(RD)"
   ]
  },
  {
   "cell_type": "code",
   "execution_count": 49,
   "metadata": {},
   "outputs": [
    {
     "data": {
      "application/vnd.microsoft.datawrangler.viewer.v0+json": {
       "columns": [
        {
         "name": "index",
         "rawType": "int64",
         "type": "integer"
        },
        {
         "name": "Value",
         "rawType": "float64",
         "type": "float"
        },
        {
         "name": "Day",
         "rawType": "object",
         "type": "string"
        },
        {
         "name": "rep",
         "rawType": "object",
         "type": "string"
        },
        {
         "name": "gene_id",
         "rawType": "object",
         "type": "string"
        },
        {
         "name": "MitoPW",
         "rawType": "object",
         "type": "string"
        },
        {
         "name": "mtDNA",
         "rawType": "object",
         "type": "string"
        }
       ],
       "conversionMethod": "pd.DataFrame",
       "ref": "c512542a-7edf-4483-968f-3448f303dfb8",
       "rows": [
        [
         "0",
         "-1.7250305891598825",
         "4",
         "a",
         "ENSMUSG00000064341",
         "CI subunits",
         "mtDNA"
        ],
        [
         "1",
         "-1.503562278549557",
         "4",
         "a",
         "ENSMUSG00000064345",
         "CI subunits",
         "mtDNA"
        ],
        [
         "2",
         "0.0191497929497125",
         "4",
         "a",
         "ENSMUSG00000064360",
         "CI subunits",
         "mtDNA"
        ],
        [
         "3",
         "-1.840284726920714",
         "4",
         "a",
         "ENSMUSG00000064363",
         "CI subunits",
         "mtDNA"
        ],
        [
         "4",
         "-0.629857371412905",
         "4",
         "a",
         "ENSMUSG00000064367",
         "CI subunits",
         "mtDNA"
        ],
        [
         "5",
         "-0.9016451473363046",
         "4",
         "a",
         "ENSMUSG00000064368",
         "CI subunits",
         "mtDNA"
        ],
        [
         "6",
         "-0.8406133449155158",
         "4",
         "a",
         "ENSMUSG00000016427",
         "CI subunits",
         "ncDNA"
        ],
        [
         "7",
         "-0.1072525354927638",
         "4",
         "a",
         "ENSMUSG00000026260",
         "CI subunits",
         "ncDNA"
        ],
        [
         "8",
         "-0.8668127130182721",
         "4",
         "a",
         "ENSMUSG00000002379",
         "CI subunits",
         "ncDNA"
        ],
        [
         "9",
         "-0.9435491724565171",
         "4",
         "a",
         "ENSMUSG00000020022",
         "CI subunits",
         "ncDNA"
        ],
        [
         "10",
         "-0.9204040045489056",
         "4",
         "a",
         "ENSMUSG00000036199",
         "CI subunits",
         "ncDNA"
        ],
        [
         "11",
         "-0.9082043056983908",
         "4",
         "a",
         "ENSMUSG00000014294",
         "CI subunits",
         "ncDNA"
        ],
        [
         "12",
         "-0.6260518741579701",
         "4",
         "a",
         "ENSMUSG00000035674",
         "CI subunits",
         "ncDNA"
        ],
        [
         "13",
         "-1.2835243646144674",
         "4",
         "a",
         "ENSMUSG00000023089",
         "CI subunits",
         "ncDNA"
        ],
        [
         "14",
         "-0.6157999315682152",
         "4",
         "a",
         "ENSMUSG00000022450",
         "CI subunits",
         "ncDNA"
        ],
        [
         "15",
         "-0.3023772989384657",
         "4",
         "a",
         "ENSMUSG00000041881",
         "CI subunits",
         "ncDNA"
        ],
        [
         "16",
         "-0.8047748174999894",
         "4",
         "a",
         "ENSMUSG00000026895",
         "CI subunits",
         "ncDNA"
        ],
        [
         "17",
         "-0.2958812281125972",
         "4",
         "a",
         "ENSMUSG00000000399",
         "CI subunits",
         "ncDNA"
        ],
        [
         "18",
         "-0.4502161380596531",
         "4",
         "a",
         "ENSMUSG00000030869",
         "CI subunits",
         "ncDNA"
        ],
        [
         "19",
         "-0.5459646823242476",
         "4",
         "a",
         "ENSMUSG00000040048",
         "CI subunits",
         "ncDNA"
        ],
        [
         "20",
         "-0.6366766189526377",
         "4",
         "a",
         "ENSMUSG00000031059",
         "CI subunits",
         "ncDNA"
        ],
        [
         "21",
         "-1.7582385895403916",
         "4",
         "a",
         "ENSMUSG00000002416",
         "CI subunits",
         "ncDNA"
        ],
        [
         "22",
         "-0.5682178236112103",
         "4",
         "a",
         "ENSMUSG00000026032",
         "CI subunits",
         "ncDNA"
        ],
        [
         "23",
         "-1.7433901929733544",
         "4",
         "a",
         "ENSMUSG00000022820",
         "CI subunits",
         "ncDNA"
        ],
        [
         "24",
         "-0.3580034846871109",
         "4",
         "a",
         "ENSMUSG00000027673",
         "CI subunits",
         "ncDNA"
        ],
        [
         "25",
         "-0.3644301041684984",
         "4",
         "a",
         "ENSMUSG00000071014",
         "CI subunits",
         "ncDNA"
        ],
        [
         "26",
         "-1.0467853132297444",
         "4",
         "a",
         "ENSMUSG00000033938",
         "CI subunits",
         "ncDNA"
        ],
        [
         "27",
         "-0.3921435038629429",
         "4",
         "a",
         "ENSMUSG00000025204",
         "CI subunits",
         "ncDNA"
        ],
        [
         "28",
         "-0.5615548199111763",
         "4",
         "a",
         "ENSMUSG00000022354",
         "CI subunits",
         "ncDNA"
        ],
        [
         "29",
         "-0.817097812461162",
         "4",
         "a",
         "ENSMUSG00000037152",
         "CI subunits",
         "ncDNA"
        ],
        [
         "30",
         "-0.8918099446932477",
         "4",
         "a",
         "ENSMUSG00000030647",
         "CI subunits",
         "ncDNA"
        ],
        [
         "31",
         "0.1727025215529214",
         "4",
         "a",
         "ENSMUSG00000025968",
         "CI subunits",
         "ncDNA"
        ],
        [
         "32",
         "-0.2045889288909899",
         "4",
         "a",
         "ENSMUSG00000013593",
         "CI subunits",
         "ncDNA"
        ],
        [
         "33",
         "-0.0797922448740829",
         "4",
         "a",
         "ENSMUSG00000005510",
         "CI subunits",
         "ncDNA"
        ],
        [
         "34",
         "-0.5617373691806953",
         "4",
         "a",
         "ENSMUSG00000021764",
         "CI subunits",
         "ncDNA"
        ],
        [
         "35",
         "-0.7875720878208703",
         "4",
         "a",
         "ENSMUSG00000028648",
         "CI subunits",
         "ncDNA"
        ],
        [
         "36",
         "-0.8035461588216634",
         "4",
         "a",
         "ENSMUSG00000021606",
         "CI subunits",
         "ncDNA"
        ],
        [
         "37",
         "-0.4144499421350137",
         "4",
         "a",
         "ENSMUSG00000020153",
         "CI subunits",
         "ncDNA"
        ],
        [
         "38",
         "-0.487943235195565",
         "4",
         "a",
         "ENSMUSG00000059734",
         "CI subunits",
         "ncDNA"
        ],
        [
         "39",
         "-0.6162101376915438",
         "4",
         "a",
         "ENSMUSG00000037916",
         "CI subunits",
         "ncDNA"
        ],
        [
         "40",
         "-0.2328677115113024",
         "4",
         "a",
         "ENSMUSG00000024099",
         "CI subunits",
         "ncDNA"
        ],
        [
         "41",
         "-0.4669947121815672",
         "4",
         "a",
         "ENSMUSG00000024038",
         "CI subunits",
         "ncDNA"
        ],
        [
         "42",
         "-0.8262112923151744",
         "4",
         "b",
         "ENSMUSG00000064341",
         "CI subunits",
         "mtDNA"
        ],
        [
         "43",
         "-0.1157945024913287",
         "4",
         "b",
         "ENSMUSG00000064345",
         "CI subunits",
         "mtDNA"
        ],
        [
         "44",
         "1.0729688540384956",
         "4",
         "b",
         "ENSMUSG00000064360",
         "CI subunits",
         "mtDNA"
        ],
        [
         "45",
         "-0.1822613308652498",
         "4",
         "b",
         "ENSMUSG00000064363",
         "CI subunits",
         "mtDNA"
        ],
        [
         "46",
         "0.1982405935859661",
         "4",
         "b",
         "ENSMUSG00000064367",
         "CI subunits",
         "mtDNA"
        ],
        [
         "47",
         "-0.1457847110803813",
         "4",
         "b",
         "ENSMUSG00000064368",
         "CI subunits",
         "mtDNA"
        ],
        [
         "48",
         "-0.3944261314001322",
         "4",
         "b",
         "ENSMUSG00000016427",
         "CI subunits",
         "ncDNA"
        ],
        [
         "49",
         "0.33851738962514",
         "4",
         "b",
         "ENSMUSG00000026260",
         "CI subunits",
         "ncDNA"
        ]
       ],
       "shape": {
        "columns": 6,
        "rows": 576
       }
      },
      "text/html": [
       "<div>\n",
       "<style scoped>\n",
       "    .dataframe tbody tr th:only-of-type {\n",
       "        vertical-align: middle;\n",
       "    }\n",
       "\n",
       "    .dataframe tbody tr th {\n",
       "        vertical-align: top;\n",
       "    }\n",
       "\n",
       "    .dataframe thead th {\n",
       "        text-align: right;\n",
       "    }\n",
       "</style>\n",
       "<table border=\"1\" class=\"dataframe\">\n",
       "  <thead>\n",
       "    <tr style=\"text-align: right;\">\n",
       "      <th></th>\n",
       "      <th>Value</th>\n",
       "      <th>Day</th>\n",
       "      <th>rep</th>\n",
       "      <th>gene_id</th>\n",
       "      <th>MitoPW</th>\n",
       "      <th>mtDNA</th>\n",
       "    </tr>\n",
       "  </thead>\n",
       "  <tbody>\n",
       "    <tr>\n",
       "      <th>0</th>\n",
       "      <td>-1.725031</td>\n",
       "      <td>4</td>\n",
       "      <td>a</td>\n",
       "      <td>ENSMUSG00000064341</td>\n",
       "      <td>CI subunits</td>\n",
       "      <td>mtDNA</td>\n",
       "    </tr>\n",
       "    <tr>\n",
       "      <th>1</th>\n",
       "      <td>-1.503562</td>\n",
       "      <td>4</td>\n",
       "      <td>a</td>\n",
       "      <td>ENSMUSG00000064345</td>\n",
       "      <td>CI subunits</td>\n",
       "      <td>mtDNA</td>\n",
       "    </tr>\n",
       "    <tr>\n",
       "      <th>2</th>\n",
       "      <td>0.019150</td>\n",
       "      <td>4</td>\n",
       "      <td>a</td>\n",
       "      <td>ENSMUSG00000064360</td>\n",
       "      <td>CI subunits</td>\n",
       "      <td>mtDNA</td>\n",
       "    </tr>\n",
       "    <tr>\n",
       "      <th>3</th>\n",
       "      <td>-1.840285</td>\n",
       "      <td>4</td>\n",
       "      <td>a</td>\n",
       "      <td>ENSMUSG00000064363</td>\n",
       "      <td>CI subunits</td>\n",
       "      <td>mtDNA</td>\n",
       "    </tr>\n",
       "    <tr>\n",
       "      <th>4</th>\n",
       "      <td>-0.629857</td>\n",
       "      <td>4</td>\n",
       "      <td>a</td>\n",
       "      <td>ENSMUSG00000064367</td>\n",
       "      <td>CI subunits</td>\n",
       "      <td>mtDNA</td>\n",
       "    </tr>\n",
       "    <tr>\n",
       "      <th>...</th>\n",
       "      <td>...</td>\n",
       "      <td>...</td>\n",
       "      <td>...</td>\n",
       "      <td>...</td>\n",
       "      <td>...</td>\n",
       "      <td>...</td>\n",
       "    </tr>\n",
       "    <tr>\n",
       "      <th>571</th>\n",
       "      <td>0.384204</td>\n",
       "      <td>8</td>\n",
       "      <td>c</td>\n",
       "      <td>ENSMUSG00000000563</td>\n",
       "      <td>CV subunits</td>\n",
       "      <td>ncDNA</td>\n",
       "    </tr>\n",
       "    <tr>\n",
       "      <th>572</th>\n",
       "      <td>-0.732153</td>\n",
       "      <td>8</td>\n",
       "      <td>c</td>\n",
       "      <td>ENSMUSG00000054428</td>\n",
       "      <td>CV subunits</td>\n",
       "      <td>ncDNA</td>\n",
       "    </tr>\n",
       "    <tr>\n",
       "      <th>573</th>\n",
       "      <td>0.548549</td>\n",
       "      <td>8</td>\n",
       "      <td>c</td>\n",
       "      <td>ENSMUSG00000054894</td>\n",
       "      <td>CV subunits</td>\n",
       "      <td>ncDNA</td>\n",
       "    </tr>\n",
       "    <tr>\n",
       "      <th>574</th>\n",
       "      <td>-1.828626</td>\n",
       "      <td>8</td>\n",
       "      <td>c</td>\n",
       "      <td>ENSMUSG00000064357</td>\n",
       "      <td>CV subunits</td>\n",
       "      <td>mtDNA</td>\n",
       "    </tr>\n",
       "    <tr>\n",
       "      <th>575</th>\n",
       "      <td>-1.579652</td>\n",
       "      <td>8</td>\n",
       "      <td>c</td>\n",
       "      <td>ENSMUSG00000064356</td>\n",
       "      <td>CV subunits</td>\n",
       "      <td>mtDNA</td>\n",
       "    </tr>\n",
       "  </tbody>\n",
       "</table>\n",
       "<p>576 rows × 6 columns</p>\n",
       "</div>"
      ],
      "text/plain": [
       "        Value Day rep             gene_id       MitoPW  mtDNA\n",
       "0   -1.725031   4   a  ENSMUSG00000064341  CI subunits  mtDNA\n",
       "1   -1.503562   4   a  ENSMUSG00000064345  CI subunits  mtDNA\n",
       "2    0.019150   4   a  ENSMUSG00000064360  CI subunits  mtDNA\n",
       "3   -1.840285   4   a  ENSMUSG00000064363  CI subunits  mtDNA\n",
       "4   -0.629857   4   a  ENSMUSG00000064367  CI subunits  mtDNA\n",
       "..        ...  ..  ..                 ...          ...    ...\n",
       "571  0.384204   8   c  ENSMUSG00000000563  CV subunits  ncDNA\n",
       "572 -0.732153   8   c  ENSMUSG00000054428  CV subunits  ncDNA\n",
       "573  0.548549   8   c  ENSMUSG00000054894  CV subunits  ncDNA\n",
       "574 -1.828626   8   c  ENSMUSG00000064357  CV subunits  mtDNA\n",
       "575 -1.579652   8   c  ENSMUSG00000064356  CV subunits  mtDNA\n",
       "\n",
       "[576 rows x 6 columns]"
      ]
     },
     "metadata": {},
     "output_type": "display_data"
    }
   ],
   "source": [
    "# Plot data\n",
    "MTPWs = ['CI subunits',\n",
    "         'CII subunits',\n",
    "         'CIII subunits',\n",
    "         'CIV subunits',\n",
    "         'CV subunits']\n",
    "\n",
    "plot_data = pd.DataFrame(columns=['Value','Day','rep','gene_id','MitoPW'])\n",
    "for MTPW in MTPWs:\n",
    "    genes = pd.DataFrame({'gene_id' : MitoPW.loc[MTPW,'EnsemblGeneIDs'].split(',')})  \n",
    "    genes_table = pd.merge(genes, RD[['gene_id']+[f'RD{day}{rep}' for day in ['4','8'] for rep in ['a','b','c']]], on='gene_id')\n",
    "    genes_table = pd.melt(genes_table, id_vars=['gene_id'], value_vars=[f'RD{day}{rep}' for day in ['4','8'] for rep in ['a','b','c']])\n",
    "    genes_table['Day'] = genes_table['variable'].str[2] \n",
    "    genes_table['rep'] = genes_table['variable'].str[3]\n",
    "    genes_table['MitoPW'] = MTPW\n",
    "    genes_table = genes_table.drop(columns='variable').rename(columns={'value':'Value'})\n",
    "    plot_data = pd.concat([plot_data, genes_table])\n",
    "\n",
    "plot_data = pd.merge(plot_data, mtDNA, on='gene_id', how='left').replace(np.nan, 'ncDNA')\n",
    "\n",
    "display(plot_data)"
   ]
  },
  {
   "cell_type": "markdown",
   "metadata": {},
   "source": [
    "---"
   ]
  },
  {
   "cell_type": "code",
   "execution_count": 50,
   "metadata": {},
   "outputs": [
    {
     "data": {
      "application/vnd.microsoft.datawrangler.viewer.v0+json": {
       "columns": [
        {
         "name": "index",
         "rawType": "int64",
         "type": "integer"
        },
        {
         "name": "gene_id",
         "rawType": "object",
         "type": "string"
        },
        {
         "name": "D4",
         "rawType": "float64",
         "type": "float"
        },
        {
         "name": "D8",
         "rawType": "float64",
         "type": "float"
        },
        {
         "name": "mtDNA",
         "rawType": "object",
         "type": "string"
        }
       ],
       "conversionMethod": "pd.DataFrame",
       "ref": "5f5a90a1-d65b-47ba-bf64-ccb574514313",
       "rows": [
        [
         "0",
         "ENSMUSG00000033845",
         "-0.3111079048686501",
         "-0.3821880332552649",
         "nDNA"
        ],
        [
         "1",
         "ENSMUSG00000025903",
         "0.1438874393685937",
         "-0.2128390188724482",
         "nDNA"
        ],
        [
         "2",
         "ENSMUSG00000033813",
         "0.1516887160052827",
         "0.1898575127677344",
         "nDNA"
        ],
        [
         "3",
         "ENSMUSG00000033793",
         "0.2698763528660174",
         "0.2838818242052591",
         "nDNA"
        ],
        [
         "4",
         "ENSMUSG00000025907",
         "0.0888005917794732",
         "-0.3260817239436906",
         "nDNA"
        ],
        [
         "5",
         "ENSMUSG00000087247",
         "-1.308950501520034",
         "0.9702623898555368",
         "nDNA"
        ],
        [
         "6",
         "ENSMUSG00000051285",
         "0.4162336629699492",
         "0.32035377608369",
         "nDNA"
        ],
        [
         "7",
         "ENSMUSG00000061024",
         "-0.0143624415661837",
         "0.368412614858241",
         "nDNA"
        ],
        [
         "8",
         "ENSMUSG00000025911",
         "-0.0054177898845099",
         "0.5652304518827632",
         "nDNA"
        ],
        [
         "9",
         "ENSMUSG00000045210",
         "0.1535511603615049",
         "-0.2821061887670715",
         "nDNA"
        ],
        [
         "10",
         "ENSMUSG00000025915",
         "0.550237234686417",
         "0.8683648173515225",
         "nDNA"
        ],
        [
         "11",
         "ENSMUSG00000099032",
         "0.0452829418658243",
         "-0.1353302195277072",
         "nDNA"
        ],
        [
         "12",
         "ENSMUSG00000025917",
         "-0.4262651203611928",
         "-0.6422174058780187",
         "nDNA"
        ],
        [
         "13",
         "ENSMUSG00000056763",
         "-0.2546012360687312",
         "-0.4499650906137938",
         "nDNA"
        ],
        [
         "14",
         "ENSMUSG00000067851",
         "-0.1629276752627627",
         "-1.0979688909955636",
         "nDNA"
        ],
        [
         "15",
         "ENSMUSG00000042501",
         "0.5264516950648558",
         "-0.250842782390651",
         "nDNA"
        ],
        [
         "16",
         "ENSMUSG00000057715",
         "-0.810685781779214",
         "-1.0794461503214925",
         "nDNA"
        ],
        [
         "17",
         "ENSMUSG00000016918",
         "0.59158716453917",
         "0.6344467221361642",
         "nDNA"
        ],
        [
         "18",
         "ENSMUSG00000025938",
         "-0.285755334828433",
         "-0.0015051665439933",
         "nDNA"
        ],
        [
         "19",
         "ENSMUSG00000005886",
         "0.6172441481518747",
         "0.896400048475666",
         "nDNA"
        ],
        [
         "20",
         "ENSMUSG00000025935",
         "0.2267484101835171",
         "-0.0358387633821238",
         "nDNA"
        ],
        [
         "21",
         "ENSMUSG00000025937",
         "0.3105247396132637",
         "0.5050013656138265",
         "nDNA"
        ],
        [
         "22",
         "ENSMUSG00000025925",
         "0.4043824275837854",
         "0.1034175888260659",
         "nDNA"
        ],
        [
         "23",
         "ENSMUSG00000043716",
         "0.2200790487071242",
         "-0.1153851602131719",
         "nDNA"
        ],
        [
         "24",
         "ENSMUSG00000025921",
         "0.592628996444133",
         "0.632457028940148",
         "nDNA"
        ],
        [
         "25",
         "ENSMUSG00000025920",
         "0.3401732690274348",
         "0.2276252619474149",
         "nDNA"
        ],
        [
         "26",
         "ENSMUSG00000025939",
         "-0.1105460375344279",
         "-0.1448476638541175",
         "nDNA"
        ],
        [
         "27",
         "ENSMUSG00000079658",
         "-0.2461887729451695",
         "-0.4028780396667231",
         "nDNA"
        ],
        [
         "28",
         "ENSMUSG00000025940",
         "0.434292623450244",
         "0.9028558133939496",
         "nDNA"
        ],
        [
         "29",
         "ENSMUSG00000025779",
         "0.2756482473176653",
         "-0.0784981176197121",
         "nDNA"
        ],
        [
         "30",
         "ENSMUSG00000042686",
         "0.1017375370478961",
         "0.4303420599298388",
         "nDNA"
        ],
        [
         "31",
         "ENSMUSG00000067780",
         "0.4768924383770469",
         "0.1383019320102322",
         "nDNA"
        ],
        [
         "32",
         "ENSMUSG00000041859",
         "-0.1021637034262336",
         "-0.2009720805275895",
         "nDNA"
        ],
        [
         "33",
         "ENSMUSG00000025931",
         "0.7343779331343177",
         "0.6636617442109076",
         "nDNA"
        ],
        [
         "34",
         "ENSMUSG00000041809",
         "0.360149790969152",
         "-0.0724063272965272",
         "nDNA"
        ],
        [
         "35",
         "ENSMUSG00000041779",
         "0.2930747414043244",
         "0.1388215749074983",
         "nDNA"
        ],
        [
         "36",
         "ENSMUSG00000025933",
         "-0.1468975220463273",
         "-0.0121349632210748",
         "nDNA"
        ],
        [
         "37",
         "ENSMUSG00000025934",
         "0.6722679442445633",
         "0.4150966280387409",
         "nDNA"
        ],
        [
         "38",
         "ENSMUSG00000026155",
         "0.6523475717869266",
         "0.6188634355089403",
         "nDNA"
        ],
        [
         "39",
         "ENSMUSG00000026154",
         "-0.2386669936706761",
         "-0.1714070635634755",
         "nDNA"
        ],
        [
         "40",
         "ENSMUSG00000026153",
         "-0.1203571915184573",
         "-0.4793798475593773",
         "nDNA"
        ],
        [
         "41",
         "ENSMUSG00000073725",
         "0.489649324429656",
         "0.5168510450461775",
         "nDNA"
        ],
        [
         "42",
         "ENSMUSG00000048874",
         "-0.2467550843688567",
         "-0.3790606920894867",
         "nDNA"
        ],
        [
         "43",
         "ENSMUSG00000026134",
         "0.1436486038294237",
         "0.4843108541816542",
         "nDNA"
        ],
        [
         "44",
         "ENSMUSG00000004768",
         "0.1017842503498654",
         "0.2440546499677573",
         "nDNA"
        ],
        [
         "45",
         "ENSMUSG00000042215",
         "-0.1424061618573084",
         "0.0825607607539319",
         "nDNA"
        ],
        [
         "46",
         "ENSMUSG00000042197",
         "0.1363755153659632",
         "-0.1698659597316228",
         "nDNA"
        ],
        [
         "47",
         "ENSMUSG00000042182",
         "0.5711591917251476",
         "-0.5670440332703653",
         "nDNA"
        ],
        [
         "48",
         "ENSMUSG00000026131",
         "0.0911008036643287",
         "-0.1572526726175491",
         "nDNA"
        ],
        [
         "49",
         "ENSMUSG00000042111",
         "-0.0054298225633468",
         "0.3180915801054069",
         "nDNA"
        ]
       ],
       "shape": {
        "columns": 4,
        "rows": 11810
       }
      },
      "text/html": [
       "<div>\n",
       "<style scoped>\n",
       "    .dataframe tbody tr th:only-of-type {\n",
       "        vertical-align: middle;\n",
       "    }\n",
       "\n",
       "    .dataframe tbody tr th {\n",
       "        vertical-align: top;\n",
       "    }\n",
       "\n",
       "    .dataframe thead th {\n",
       "        text-align: right;\n",
       "    }\n",
       "</style>\n",
       "<table border=\"1\" class=\"dataframe\">\n",
       "  <thead>\n",
       "    <tr style=\"text-align: right;\">\n",
       "      <th></th>\n",
       "      <th>gene_id</th>\n",
       "      <th>D4</th>\n",
       "      <th>D8</th>\n",
       "      <th>mtDNA</th>\n",
       "    </tr>\n",
       "  </thead>\n",
       "  <tbody>\n",
       "    <tr>\n",
       "      <th>0</th>\n",
       "      <td>ENSMUSG00000033845</td>\n",
       "      <td>-0.311108</td>\n",
       "      <td>-0.382188</td>\n",
       "      <td>nDNA</td>\n",
       "    </tr>\n",
       "    <tr>\n",
       "      <th>1</th>\n",
       "      <td>ENSMUSG00000025903</td>\n",
       "      <td>0.143887</td>\n",
       "      <td>-0.212839</td>\n",
       "      <td>nDNA</td>\n",
       "    </tr>\n",
       "    <tr>\n",
       "      <th>2</th>\n",
       "      <td>ENSMUSG00000033813</td>\n",
       "      <td>0.151689</td>\n",
       "      <td>0.189858</td>\n",
       "      <td>nDNA</td>\n",
       "    </tr>\n",
       "    <tr>\n",
       "      <th>3</th>\n",
       "      <td>ENSMUSG00000033793</td>\n",
       "      <td>0.269876</td>\n",
       "      <td>0.283882</td>\n",
       "      <td>nDNA</td>\n",
       "    </tr>\n",
       "    <tr>\n",
       "      <th>4</th>\n",
       "      <td>ENSMUSG00000025907</td>\n",
       "      <td>0.088801</td>\n",
       "      <td>-0.326082</td>\n",
       "      <td>nDNA</td>\n",
       "    </tr>\n",
       "    <tr>\n",
       "      <th>...</th>\n",
       "      <td>...</td>\n",
       "      <td>...</td>\n",
       "      <td>...</td>\n",
       "      <td>...</td>\n",
       "    </tr>\n",
       "    <tr>\n",
       "      <th>11805</th>\n",
       "      <td>ENSMUSG00000064360</td>\n",
       "      <td>-0.227778</td>\n",
       "      <td>-2.407071</td>\n",
       "      <td>mtDNA</td>\n",
       "    </tr>\n",
       "    <tr>\n",
       "      <th>11806</th>\n",
       "      <td>ENSMUSG00000064363</td>\n",
       "      <td>-1.022871</td>\n",
       "      <td>-1.317163</td>\n",
       "      <td>mtDNA</td>\n",
       "    </tr>\n",
       "    <tr>\n",
       "      <th>11807</th>\n",
       "      <td>ENSMUSG00000064367</td>\n",
       "      <td>-0.418699</td>\n",
       "      <td>-0.569325</td>\n",
       "      <td>mtDNA</td>\n",
       "    </tr>\n",
       "    <tr>\n",
       "      <th>11808</th>\n",
       "      <td>ENSMUSG00000064368</td>\n",
       "      <td>-0.609004</td>\n",
       "      <td>-0.318614</td>\n",
       "      <td>mtDNA</td>\n",
       "    </tr>\n",
       "    <tr>\n",
       "      <th>11809</th>\n",
       "      <td>ENSMUSG00000064370</td>\n",
       "      <td>-0.913174</td>\n",
       "      <td>-1.297092</td>\n",
       "      <td>mtDNA</td>\n",
       "    </tr>\n",
       "  </tbody>\n",
       "</table>\n",
       "<p>11810 rows × 4 columns</p>\n",
       "</div>"
      ],
      "text/plain": [
       "                  gene_id        D4        D8  mtDNA\n",
       "0      ENSMUSG00000033845 -0.311108 -0.382188   nDNA\n",
       "1      ENSMUSG00000025903  0.143887 -0.212839   nDNA\n",
       "2      ENSMUSG00000033813  0.151689  0.189858   nDNA\n",
       "3      ENSMUSG00000033793  0.269876  0.283882   nDNA\n",
       "4      ENSMUSG00000025907  0.088801 -0.326082   nDNA\n",
       "...                   ...       ...       ...    ...\n",
       "11805  ENSMUSG00000064360 -0.227778 -2.407071  mtDNA\n",
       "11806  ENSMUSG00000064363 -1.022871 -1.317163  mtDNA\n",
       "11807  ENSMUSG00000064367 -0.418699 -0.569325  mtDNA\n",
       "11808  ENSMUSG00000064368 -0.609004 -0.318614  mtDNA\n",
       "11809  ENSMUSG00000064370 -0.913174 -1.297092  mtDNA\n",
       "\n",
       "[11810 rows x 4 columns]"
      ]
     },
     "metadata": {},
     "output_type": "display_data"
    }
   ],
   "source": [
    "RD_avglogFC = pd.read_csv(f'{Project}/Results/Tables/CPM_RD_calculation/v20221217/adi_RD_avg_log2FC.tsv', sep='\\t').drop(columns='gene_name')\n",
    "RD_avglogFC = pd.merge(RD_avglogFC, mtDNA, on='gene_id', how='left').replace(np.nan, 'nDNA')\n",
    "\n",
    "display(RD_avglogFC)"
   ]
  },
  {
   "cell_type": "code",
   "execution_count": 51,
   "metadata": {},
   "outputs": [
    {
     "name": "stdout",
     "output_type": "stream",
     "text": [
      "42\n",
      "4\n",
      "10\n",
      "20\n",
      "20\n"
     ]
    },
    {
     "data": {
      "application/vnd.microsoft.datawrangler.viewer.v0+json": {
       "columns": [
        {
         "name": "index",
         "rawType": "int64",
         "type": "integer"
        },
        {
         "name": "gene_id",
         "rawType": "object",
         "type": "string"
        },
        {
         "name": "D4",
         "rawType": "float64",
         "type": "float"
        },
        {
         "name": "D8",
         "rawType": "float64",
         "type": "float"
        },
        {
         "name": "mtDNA",
         "rawType": "object",
         "type": "string"
        },
        {
         "name": "Origin_index",
         "rawType": "int64",
         "type": "integer"
        }
       ],
       "conversionMethod": "pd.DataFrame",
       "ref": "1e27be90-b10c-4a36-8f0d-fa30be740bcc",
       "rows": [
        [
         "17",
         "ENSMUSG00000054894",
         "0.2308225915263526",
         "0.4501296921318323",
         "nDNA",
         "-1"
        ],
        [
         "0",
         "ENSMUSG00000025428",
         "0.1604343094635233",
         "0.3498585276642539",
         "nDNA",
         "-1"
        ],
        [
         "15",
         "ENSMUSG00000000563",
         "0.1017610127731668",
         "0.2138168193747551",
         "nDNA",
         "-1"
        ],
        [
         "7",
         "ENSMUSG00000034566",
         "-0.2336286588736157",
         "0.01580736233889",
         "nDNA",
         "-1"
        ],
        [
         "2",
         "ENSMUSG00000025781",
         "0.015490275512881",
         "0.0040728753371937",
         "nDNA",
         "-1"
        ],
        [
         "3",
         "ENSMUSG00000003072",
         "0.0025500704326694",
         "-0.0601488152211916",
         "nDNA",
         "-1"
        ],
        [
         "1",
         "ENSMUSG00000025393",
         "-0.2415166005426547",
         "-0.1093185700985105",
         "nDNA",
         "-1"
        ],
        [
         "14",
         "ENSMUSG00000022956",
         "-0.128476594512763",
         "-0.1760217270327971",
         "nDNA",
         "-1"
        ],
        [
         "6",
         "ENSMUSG00000018770",
         "-0.3520333245364981",
         "-0.4884001367560306",
         "nDNA",
         "-1"
        ],
        [
         "11",
         "ENSMUSG00000038717",
         "-0.2187044532792665",
         "-0.5065552225000834",
         "nDNA",
         "-1"
        ],
        [
         "8",
         "ENSMUSG00000022890",
         "-0.3201335125980117",
         "-0.5368985545643554",
         "nDNA",
         "-1"
        ],
        [
         "13",
         "ENSMUSG00000021290",
         "-0.6036208313822323",
         "-0.5919606180351328",
         "nDNA",
         "-1"
        ],
        [
         "9",
         "ENSMUSG00000038690",
         "-0.51794661423877",
         "-0.6342818881900819",
         "nDNA",
         "-1"
        ],
        [
         "10",
         "ENSMUSG00000050856",
         "-0.7558139040754585",
         "-0.7237013489263718",
         "nDNA",
         "-1"
        ],
        [
         "16",
         "ENSMUSG00000054428",
         "-0.6459546363050989",
         "-0.7755609914172651",
         "nDNA",
         "-1"
        ],
        [
         "12",
         "ENSMUSG00000071528",
         "-0.7205251369771734",
         "-0.8043767063531152",
         "nDNA",
         "-1"
        ],
        [
         "4",
         "ENSMUSG00000016252",
         "-0.6021076754927482",
         "-0.8815668509724074",
         "nDNA",
         "-1"
        ],
        [
         "5",
         "ENSMUSG00000006057",
         "-0.9669815412709568",
         "-0.9250581302404384",
         "nDNA",
         "-1"
        ],
        [
         "18",
         "ENSMUSG00000064357",
         "-2.6556332913974203",
         "-2.230680581219707",
         "mtDNA",
         "1"
        ],
        [
         "19",
         "ENSMUSG00000064356",
         "-3.354349064324705",
         "-2.3313573355539745",
         "mtDNA",
         "1"
        ]
       ],
       "shape": {
        "columns": 5,
        "rows": 20
       }
      },
      "text/html": [
       "<div>\n",
       "<style scoped>\n",
       "    .dataframe tbody tr th:only-of-type {\n",
       "        vertical-align: middle;\n",
       "    }\n",
       "\n",
       "    .dataframe tbody tr th {\n",
       "        vertical-align: top;\n",
       "    }\n",
       "\n",
       "    .dataframe thead th {\n",
       "        text-align: right;\n",
       "    }\n",
       "</style>\n",
       "<table border=\"1\" class=\"dataframe\">\n",
       "  <thead>\n",
       "    <tr style=\"text-align: right;\">\n",
       "      <th></th>\n",
       "      <th>gene_id</th>\n",
       "      <th>D4</th>\n",
       "      <th>D8</th>\n",
       "      <th>mtDNA</th>\n",
       "      <th>Origin_index</th>\n",
       "    </tr>\n",
       "  </thead>\n",
       "  <tbody>\n",
       "    <tr>\n",
       "      <th>17</th>\n",
       "      <td>ENSMUSG00000054894</td>\n",
       "      <td>0.230823</td>\n",
       "      <td>0.450130</td>\n",
       "      <td>nDNA</td>\n",
       "      <td>-1</td>\n",
       "    </tr>\n",
       "    <tr>\n",
       "      <th>0</th>\n",
       "      <td>ENSMUSG00000025428</td>\n",
       "      <td>0.160434</td>\n",
       "      <td>0.349859</td>\n",
       "      <td>nDNA</td>\n",
       "      <td>-1</td>\n",
       "    </tr>\n",
       "    <tr>\n",
       "      <th>15</th>\n",
       "      <td>ENSMUSG00000000563</td>\n",
       "      <td>0.101761</td>\n",
       "      <td>0.213817</td>\n",
       "      <td>nDNA</td>\n",
       "      <td>-1</td>\n",
       "    </tr>\n",
       "    <tr>\n",
       "      <th>7</th>\n",
       "      <td>ENSMUSG00000034566</td>\n",
       "      <td>-0.233629</td>\n",
       "      <td>0.015807</td>\n",
       "      <td>nDNA</td>\n",
       "      <td>-1</td>\n",
       "    </tr>\n",
       "    <tr>\n",
       "      <th>2</th>\n",
       "      <td>ENSMUSG00000025781</td>\n",
       "      <td>0.015490</td>\n",
       "      <td>0.004073</td>\n",
       "      <td>nDNA</td>\n",
       "      <td>-1</td>\n",
       "    </tr>\n",
       "    <tr>\n",
       "      <th>3</th>\n",
       "      <td>ENSMUSG00000003072</td>\n",
       "      <td>0.002550</td>\n",
       "      <td>-0.060149</td>\n",
       "      <td>nDNA</td>\n",
       "      <td>-1</td>\n",
       "    </tr>\n",
       "    <tr>\n",
       "      <th>1</th>\n",
       "      <td>ENSMUSG00000025393</td>\n",
       "      <td>-0.241517</td>\n",
       "      <td>-0.109319</td>\n",
       "      <td>nDNA</td>\n",
       "      <td>-1</td>\n",
       "    </tr>\n",
       "    <tr>\n",
       "      <th>14</th>\n",
       "      <td>ENSMUSG00000022956</td>\n",
       "      <td>-0.128477</td>\n",
       "      <td>-0.176022</td>\n",
       "      <td>nDNA</td>\n",
       "      <td>-1</td>\n",
       "    </tr>\n",
       "    <tr>\n",
       "      <th>6</th>\n",
       "      <td>ENSMUSG00000018770</td>\n",
       "      <td>-0.352033</td>\n",
       "      <td>-0.488400</td>\n",
       "      <td>nDNA</td>\n",
       "      <td>-1</td>\n",
       "    </tr>\n",
       "    <tr>\n",
       "      <th>11</th>\n",
       "      <td>ENSMUSG00000038717</td>\n",
       "      <td>-0.218704</td>\n",
       "      <td>-0.506555</td>\n",
       "      <td>nDNA</td>\n",
       "      <td>-1</td>\n",
       "    </tr>\n",
       "    <tr>\n",
       "      <th>8</th>\n",
       "      <td>ENSMUSG00000022890</td>\n",
       "      <td>-0.320134</td>\n",
       "      <td>-0.536899</td>\n",
       "      <td>nDNA</td>\n",
       "      <td>-1</td>\n",
       "    </tr>\n",
       "    <tr>\n",
       "      <th>13</th>\n",
       "      <td>ENSMUSG00000021290</td>\n",
       "      <td>-0.603621</td>\n",
       "      <td>-0.591961</td>\n",
       "      <td>nDNA</td>\n",
       "      <td>-1</td>\n",
       "    </tr>\n",
       "    <tr>\n",
       "      <th>9</th>\n",
       "      <td>ENSMUSG00000038690</td>\n",
       "      <td>-0.517947</td>\n",
       "      <td>-0.634282</td>\n",
       "      <td>nDNA</td>\n",
       "      <td>-1</td>\n",
       "    </tr>\n",
       "    <tr>\n",
       "      <th>10</th>\n",
       "      <td>ENSMUSG00000050856</td>\n",
       "      <td>-0.755814</td>\n",
       "      <td>-0.723701</td>\n",
       "      <td>nDNA</td>\n",
       "      <td>-1</td>\n",
       "    </tr>\n",
       "    <tr>\n",
       "      <th>16</th>\n",
       "      <td>ENSMUSG00000054428</td>\n",
       "      <td>-0.645955</td>\n",
       "      <td>-0.775561</td>\n",
       "      <td>nDNA</td>\n",
       "      <td>-1</td>\n",
       "    </tr>\n",
       "    <tr>\n",
       "      <th>12</th>\n",
       "      <td>ENSMUSG00000071528</td>\n",
       "      <td>-0.720525</td>\n",
       "      <td>-0.804377</td>\n",
       "      <td>nDNA</td>\n",
       "      <td>-1</td>\n",
       "    </tr>\n",
       "    <tr>\n",
       "      <th>4</th>\n",
       "      <td>ENSMUSG00000016252</td>\n",
       "      <td>-0.602108</td>\n",
       "      <td>-0.881567</td>\n",
       "      <td>nDNA</td>\n",
       "      <td>-1</td>\n",
       "    </tr>\n",
       "    <tr>\n",
       "      <th>5</th>\n",
       "      <td>ENSMUSG00000006057</td>\n",
       "      <td>-0.966982</td>\n",
       "      <td>-0.925058</td>\n",
       "      <td>nDNA</td>\n",
       "      <td>-1</td>\n",
       "    </tr>\n",
       "    <tr>\n",
       "      <th>18</th>\n",
       "      <td>ENSMUSG00000064357</td>\n",
       "      <td>-2.655633</td>\n",
       "      <td>-2.230681</td>\n",
       "      <td>mtDNA</td>\n",
       "      <td>1</td>\n",
       "    </tr>\n",
       "    <tr>\n",
       "      <th>19</th>\n",
       "      <td>ENSMUSG00000064356</td>\n",
       "      <td>-3.354349</td>\n",
       "      <td>-2.331357</td>\n",
       "      <td>mtDNA</td>\n",
       "      <td>1</td>\n",
       "    </tr>\n",
       "  </tbody>\n",
       "</table>\n",
       "</div>"
      ],
      "text/plain": [
       "               gene_id        D4        D8  mtDNA  Origin_index\n",
       "17  ENSMUSG00000054894  0.230823  0.450130   nDNA            -1\n",
       "0   ENSMUSG00000025428  0.160434  0.349859   nDNA            -1\n",
       "15  ENSMUSG00000000563  0.101761  0.213817   nDNA            -1\n",
       "7   ENSMUSG00000034566 -0.233629  0.015807   nDNA            -1\n",
       "2   ENSMUSG00000025781  0.015490  0.004073   nDNA            -1\n",
       "3   ENSMUSG00000003072  0.002550 -0.060149   nDNA            -1\n",
       "1   ENSMUSG00000025393 -0.241517 -0.109319   nDNA            -1\n",
       "14  ENSMUSG00000022956 -0.128477 -0.176022   nDNA            -1\n",
       "6   ENSMUSG00000018770 -0.352033 -0.488400   nDNA            -1\n",
       "11  ENSMUSG00000038717 -0.218704 -0.506555   nDNA            -1\n",
       "8   ENSMUSG00000022890 -0.320134 -0.536899   nDNA            -1\n",
       "13  ENSMUSG00000021290 -0.603621 -0.591961   nDNA            -1\n",
       "9   ENSMUSG00000038690 -0.517947 -0.634282   nDNA            -1\n",
       "10  ENSMUSG00000050856 -0.755814 -0.723701   nDNA            -1\n",
       "16  ENSMUSG00000054428 -0.645955 -0.775561   nDNA            -1\n",
       "12  ENSMUSG00000071528 -0.720525 -0.804377   nDNA            -1\n",
       "4   ENSMUSG00000016252 -0.602108 -0.881567   nDNA            -1\n",
       "5   ENSMUSG00000006057 -0.966982 -0.925058   nDNA            -1\n",
       "18  ENSMUSG00000064357 -2.655633 -2.230681  mtDNA             1\n",
       "19  ENSMUSG00000064356 -3.354349 -2.331357  mtDNA             1"
      ]
     },
     "metadata": {},
     "output_type": "display_data"
    }
   ],
   "source": [
    "# Plot data\n",
    "MTPWs = ['CI subunits',\n",
    "         'CII subunits',\n",
    "         'CIII subunits',\n",
    "         'CIV subunits',\n",
    "         'CV subunits']\n",
    "\n",
    "heat_data = {}\n",
    "for MTPW in MTPWs:\n",
    "    genes = pd.DataFrame({'gene_id' : MitoPW.loc[MTPW,'EnsemblGeneIDs'].split(',')})  \n",
    "    heat_data[MTPW] = pd.merge(genes, RD_avglogFC, on='gene_id').sort_values(by=['mtDNA','D8'], ascending=True)\n",
    "    heat_data[MTPW]['Origin_index'] = heat_data[MTPW][['mtDNA']].replace({'mtDNA':1, 'nDNA':-1})['mtDNA']\n",
    "    heat_data[MTPW] = heat_data[MTPW][::-1]\n",
    "    print(len(heat_data[MTPW]))\n",
    "\n",
    "display(heat_data[MTPW])"
   ]
  },
  {
   "cell_type": "code",
   "execution_count": null,
   "metadata": {},
   "outputs": [
    {
     "name": "stderr",
     "output_type": "stream",
     "text": [
      "/var/folders/ct/z73cq4_j2g5612tltg_pmxxc0000gn/T/ipykernel_95316/3760334338.py:28: FutureWarning: \n",
      "\n",
      "Passing `palette` without assigning `hue` is deprecated and will be removed in v0.14.0. Assign the `y` variable to `hue` and set `legend=False` for the same effect.\n",
      "\n",
      "  sns.stripplot(data=using_data, x=\"Value\", y=\"MitoPW\",\n",
      "/var/folders/ct/z73cq4_j2g5612tltg_pmxxc0000gn/T/ipykernel_95316/3760334338.py:35: FutureWarning: \n",
      "\n",
      "Passing `palette` without assigning `hue` is deprecated and will be removed in v0.14.0. Assign the `y` variable to `hue` and set `legend=False` for the same effect.\n",
      "\n",
      "  sns.pointplot(data=using_data, x=\"Value\", y=\"MitoPW\",\n"
     ]
    },
    {
     "data": {
      "text/plain": [
       "<Figure size 640x480 with 0 Axes>"
      ]
     },
     "metadata": {},
     "output_type": "display_data"
    },
    {
     "data": {
      "image/png": "[encoded data removed]",
      "text/plain": [
       "<Figure size 448.5x483 with 11 Axes>"
      ]
     },
     "metadata": {},
     "output_type": "display_data"
    }
   ],
   "source": [
    "day = '8'\n",
    "\n",
    "sF = 1.15 # Size factor\n",
    "wgap = 0.3\n",
    "hgap = 0.1\n",
    "nrow, ncol = 2, 2\n",
    "\n",
    "height_ratios = [1, 0.3]\n",
    "width_ratios = [0.1, 0.9]\n",
    "\n",
    "fs_h = sum(np.array(height_ratios)*sF) + (nrow-1)*hgap*sF\n",
    "fs_w = sum(np.array(width_ratios)*sF) + (ncol-1)*wgap*sF\n",
    "\n",
    "#\n",
    "fig = plt.figure(figsize=( fs_w, fs_h ), dpi=300)\n",
    "grid = plt.GridSpec(nrow, ncol,\n",
    "                    height_ratios=height_ratios,\n",
    "                    width_ratios=width_ratios,\n",
    "                    left=0, right=1, bottom=0, top=1,\n",
    "                    wspace=wgap, hspace=hgap)\n",
    "\n",
    "\n",
    "# Strip + point ----------------------------------------------------------------------------------------\n",
    "\n",
    "ax = fig.add_subplot(grid[0,1])\n",
    "\n",
    "using_data = plot_data[plot_data['Day']==day]\n",
    "sns.stripplot(data=using_data, x=\"Value\", y=\"MitoPW\",\n",
    "                # c='#CCCCCC',\n",
    "                palette=['#CCCCCC','#FFBB99','#CCCCCC','#CCCCCC','#CCCCCC'],\n",
    "                size = 1.2, \n",
    "                jitter= 0.2,\n",
    "                ax=ax, linewidth = 0,\n",
    "                legend=False)\n",
    "sns.pointplot(data=using_data, x=\"Value\", y=\"MitoPW\", \n",
    "                estimator='median', marker=\".\", markersize=8, markeredgewidth=0, \n",
    "                # color='#808080',\n",
    "                palette=['#808080','#FF8855','#808080','#808080','#808080'],\n",
    "                errorbar=('pi',50), lw=0.8,\n",
    "                # errorbar='ci', lw=0.8,\n",
    "                linestyle=\"none\", zorder=5)\n",
    "\n",
    "ax.set_xlim(-2, 1)\n",
    "ax.set_xticks((-2,-1,0,1))\n",
    "ax.set_yticks([*range(5)])\n",
    "ax.set_yticklabels(['I','II','III','IV','V'], ha='center')\n",
    "ax.tick_params(width=0.5, length=3, pad=2)\n",
    "ax.tick_params(axis='y', length=0, pad=2)\n",
    "\n",
    "ax.spines['top'].set_visible(False)\n",
    "ax.spines['right'].set_visible(False)\n",
    "# ax.spines['bottom'].set_visible(False)\n",
    "ax.spines['left'].set_visible(False)    \n",
    "\n",
    "ax.set_xlabel(f'Ribosome density log2FC\\n{day}d vs 0d', labelpad=1)\n",
    "ax.set_ylabel('')\n",
    "\n",
    "\n",
    "# heat map ----------------------------------------------------------------------------------------\n",
    "subgrid = gridspec.GridSpecFromSubplotSpec(5, 2,\n",
    "                                            width_ratios=[0.2, 1], height_ratios=[42, 4, 10, 20, 20],\n",
    "                                            wspace=0.1, hspace=0.1,\n",
    "                                            subplot_spec=grid[:,0])\n",
    "\n",
    "row = 0\n",
    "for MTPW in heat_data:\n",
    "    heat_ax = fig.add_subplot(subgrid[row,1])\n",
    "    DNA_ax = fig.add_subplot(subgrid[row,0])\n",
    "\n",
    "    heat_ax.pcolormesh(heat_data[MTPW][[f'D{day}']] ,cmap='RdBu_r', vmin=-2, vmax=2)\n",
    "\n",
    "    heat_ax.set_xticks([])\n",
    "    heat_ax.set_yticks([])\n",
    "\n",
    "\n",
    "    DNA_ax.pcolormesh(heat_data[MTPW][['Origin_index']] ,cmap=ListedColormap(['#66CC66','#E54980']))\n",
    "\n",
    "    DNA_ax.set_xticks([])\n",
    "    DNA_ax.set_yticks([])\n",
    "\n",
    "    DNA_ax.spines['top'].set_visible(False)\n",
    "    DNA_ax.spines['right'].set_visible(False)\n",
    "    DNA_ax.spines['bottom'].set_visible(False)\n",
    "    DNA_ax.spines['left'].set_visible(False)\n",
    "\n",
    "    row += 1\n",
    "\n",
    "\n",
    "plt.savefig(f'OXPHOS_RDlogFC_strip-point_{day}d.pdf', bbox_inches='tight')\n",
    "plt.show()\n",
    "plt.clf()"
   ]
  },
  {
   "cell_type": "code",
   "execution_count": 53,
   "metadata": {},
   "outputs": [
    {
     "name": "stdout",
     "output_type": "stream",
     "text": [
      "CI subunits : 42 x 3\n",
      "CII subunits : 4 x 3\n",
      "CIII subunits : 10 x 3\n",
      "CIV subunits : 20 x 3\n",
      "CV subunits : 20 x 3\n",
      "MannwhitneyuResult(statistic=343.0, pvalue=0.0018272613530234026)\n",
      "MannwhitneyuResult(statistic=119.0, pvalue=0.09209294065411702)\n",
      "MannwhitneyuResult(statistic=145.0, pvalue=0.0011907623253591215)\n",
      "MannwhitneyuResult(statistic=239.0, pvalue=0.06864507637622011)\n"
     ]
    }
   ],
   "source": [
    "from scipy.stats import mannwhitneyu\n",
    "\n",
    "for i in ['I','II','III','IV','V']:\n",
    "    print(f\"C{i} subunits : {len(using_data[using_data['MitoPW']==f'C{i} subunits'])//3} x 3\")\n",
    "\n",
    "print(mannwhitneyu(using_data[using_data['MitoPW']=='CI subunits']['Value'], using_data[using_data['MitoPW']=='CII subunits']['Value']))\n",
    "print(mannwhitneyu(using_data[using_data['MitoPW']=='CIII subunits']['Value'], using_data[using_data['MitoPW']=='CII subunits']['Value']))\n",
    "print(mannwhitneyu(using_data[using_data['MitoPW']=='CIV subunits']['Value'], using_data[using_data['MitoPW']=='CII subunits']['Value']))\n",
    "print(mannwhitneyu(using_data[using_data['MitoPW']=='CV subunits']['Value'], using_data[using_data['MitoPW']=='CII subunits']['Value']))"
   ]
  },
  {
   "cell_type": "markdown",
   "metadata": {},
   "source": [
    "---"
   ]
  },
  {
   "cell_type": "code",
   "execution_count": null,
   "metadata": {},
   "outputs": [
    {
     "name": "stderr",
     "output_type": "stream",
     "text": [
      "/var/folders/ct/z73cq4_j2g5612tltg_pmxxc0000gn/T/ipykernel_95316/426572336.py:28: FutureWarning: \n",
      "\n",
      "Passing `palette` without assigning `hue` is deprecated and will be removed in v0.14.0. Assign the `y` variable to `hue` and set `legend=False` for the same effect.\n",
      "\n",
      "  sns.stripplot(data=using_data, x=\"Value\", y=\"MitoPW\",\n",
      "/var/folders/ct/z73cq4_j2g5612tltg_pmxxc0000gn/T/ipykernel_95316/426572336.py:35: FutureWarning: \n",
      "\n",
      "Passing `palette` without assigning `hue` is deprecated and will be removed in v0.14.0. Assign the `y` variable to `hue` and set `legend=False` for the same effect.\n",
      "\n",
      "  sns.pointplot(data=using_data, x=\"Value\", y=\"MitoPW\",\n"
     ]
    },
    {
     "data": {
      "text/plain": [
       "<Figure size 640x480 with 0 Axes>"
      ]
     },
     "metadata": {},
     "output_type": "display_data"
    },
    {
     "data": {
      "image/png": "[encoded data removed]",
      "text/plain": [
       "<Figure size 448.5x483 with 11 Axes>"
      ]
     },
     "metadata": {},
     "output_type": "display_data"
    }
   ],
   "source": [
    "day = '4'\n",
    "\n",
    "sF = 1.15 # Size factor\n",
    "wgap = 0.3\n",
    "hgap = 0.1\n",
    "nrow, ncol = 2, 2\n",
    "\n",
    "height_ratios = [1, 0.3]\n",
    "width_ratios = [0.1, 0.9]\n",
    "\n",
    "fs_h = sum(np.array(height_ratios)*sF) + (nrow-1)*hgap*sF\n",
    "fs_w = sum(np.array(width_ratios)*sF) + (ncol-1)*wgap*sF\n",
    "\n",
    "#\n",
    "fig = plt.figure(figsize=( fs_w, fs_h ), dpi=300)\n",
    "grid = plt.GridSpec(nrow, ncol,\n",
    "                    height_ratios=height_ratios,\n",
    "                    width_ratios=width_ratios,\n",
    "                    left=0, right=1, bottom=0, top=1,\n",
    "                    wspace=wgap, hspace=hgap)\n",
    "\n",
    "\n",
    "# Strip + point ----------------------------------------------------------------------------------------\n",
    "\n",
    "ax = fig.add_subplot(grid[0,1])\n",
    "\n",
    "using_data = plot_data[plot_data['Day']==day]\n",
    "sns.stripplot(data=using_data, x=\"Value\", y=\"MitoPW\",\n",
    "                # c='#CCCCCC',\n",
    "                palette=['#CCCCCC','#FFBB99','#CCCCCC','#CCCCCC','#CCCCCC'],\n",
    "                size = 1.2, \n",
    "                jitter= 0.2,\n",
    "                ax=ax, linewidth = 0,\n",
    "                legend=False)\n",
    "sns.pointplot(data=using_data, x=\"Value\", y=\"MitoPW\", \n",
    "                estimator='median', marker=\".\", markersize=8, markeredgewidth=0, \n",
    "                # color='#808080',\n",
    "                palette=['#808080','#FF8855','#808080','#808080','#808080'],\n",
    "                errorbar=('pi',50), lw=0.8,\n",
    "                # errorbar='ci', lw=0.8,\n",
    "                linestyle=\"none\", zorder=5)\n",
    "\n",
    "ax.set_xlim(-2, 1)\n",
    "ax.set_xticks((-2,-1,0,1))\n",
    "ax.set_yticks([*range(5)])\n",
    "ax.set_yticklabels(['I','II','III','IV','V'], ha='center')\n",
    "ax.tick_params(width=0.5, length=3, pad=2)\n",
    "ax.tick_params(axis='y', length=0, pad=2)\n",
    "\n",
    "ax.spines['top'].set_visible(False)\n",
    "ax.spines['right'].set_visible(False)\n",
    "# ax.spines['bottom'].set_visible(False)\n",
    "ax.spines['left'].set_visible(False)    \n",
    "\n",
    "ax.set_xlabel(f'Ribosome density log2FC\\n{day}d vs 0d', labelpad=1)\n",
    "ax.set_ylabel('')\n",
    "\n",
    "\n",
    "# heat map ----------------------------------------------------------------------------------------\n",
    "subgrid = gridspec.GridSpecFromSubplotSpec(5, 2,\n",
    "                                            width_ratios=[0.2, 1], height_ratios=[42, 4, 10, 20, 20],\n",
    "                                            wspace=0.1, hspace=0.1,\n",
    "                                            subplot_spec=grid[:,0])\n",
    "\n",
    "row = 0\n",
    "for MTPW in heat_data:\n",
    "    heat_ax = fig.add_subplot(subgrid[row,1])\n",
    "    DNA_ax = fig.add_subplot(subgrid[row,0])\n",
    "\n",
    "    heat_ax.pcolormesh(heat_data[MTPW][[f'D{day}']] ,cmap='RdBu_r', vmin=-2, vmax=2)\n",
    "\n",
    "    heat_ax.set_xticks([])\n",
    "    heat_ax.set_yticks([])\n",
    "\n",
    "\n",
    "    DNA_ax.pcolormesh(heat_data[MTPW][['Origin_index']] ,cmap=ListedColormap(['#66CC66','#E54980']))\n",
    "\n",
    "    DNA_ax.set_xticks([])\n",
    "    DNA_ax.set_yticks([])\n",
    "\n",
    "    DNA_ax.spines['top'].set_visible(False)\n",
    "    DNA_ax.spines['right'].set_visible(False)\n",
    "    DNA_ax.spines['bottom'].set_visible(False)\n",
    "    DNA_ax.spines['left'].set_visible(False)\n",
    "\n",
    "    row += 1\n",
    "\n",
    "\n",
    "plt.savefig(f'OXPHOS_RDlogFC_strip-point_{day}d.pdf', bbox_inches='tight')\n",
    "plt.show()\n",
    "plt.clf()"
   ]
  },
  {
   "cell_type": "code",
   "execution_count": 55,
   "metadata": {},
   "outputs": [
    {
     "name": "stdout",
     "output_type": "stream",
     "text": [
      "CI subunits : 42 x 3\n",
      "CII subunits : 4 x 3\n",
      "CIII subunits : 10 x 3\n",
      "CIV subunits : 20 x 3\n",
      "CV subunits : 20 x 3\n",
      "MannwhitneyuResult(statistic=399.0, pvalue=0.007064055107914589)\n",
      "MannwhitneyuResult(statistic=139.0, pvalue=0.2594832909956578)\n",
      "MannwhitneyuResult(statistic=170.0, pvalue=0.004192071114582089)\n",
      "MannwhitneyuResult(statistic=228.0, pvalue=0.046927046070090635)\n"
     ]
    }
   ],
   "source": [
    "from scipy.stats import mannwhitneyu\n",
    "\n",
    "for i in ['I','II','III','IV','V']:\n",
    "    print(f\"C{i} subunits : {len(using_data[using_data['MitoPW']==f'C{i} subunits'])//3} x 3\")\n",
    "\n",
    "print(mannwhitneyu(using_data[using_data['MitoPW']=='CI subunits']['Value'], using_data[using_data['MitoPW']=='CII subunits']['Value']))\n",
    "print(mannwhitneyu(using_data[using_data['MitoPW']=='CIII subunits']['Value'], using_data[using_data['MitoPW']=='CII subunits']['Value']))\n",
    "print(mannwhitneyu(using_data[using_data['MitoPW']=='CIV subunits']['Value'], using_data[using_data['MitoPW']=='CII subunits']['Value']))\n",
    "print(mannwhitneyu(using_data[using_data['MitoPW']=='CV subunits']['Value'], using_data[using_data['MitoPW']=='CII subunits']['Value']))"
   ]
  }
 ],
 "metadata": {
  "kernelspec": {
   "display_name": "univ",
   "language": "python",
   "name": "python3"
  },
  "language_info": {
   "codemirror_mode": {
    "name": "ipython",
    "version": 3
   },
   "file_extension": ".py",
   "mimetype": "text/x-python",
   "name": "python",
   "nbconvert_exporter": "python",
   "pygments_lexer": "ipython3",
   "version": "3.9.16"
  },
  "orig_nbformat": 4
 },
 "nbformat": 4,
 "nbformat_minor": 2
}
