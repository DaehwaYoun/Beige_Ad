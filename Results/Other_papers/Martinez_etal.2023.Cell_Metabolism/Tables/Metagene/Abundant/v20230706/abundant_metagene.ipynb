{
 "cells": [
  {
   "cell_type": "code",
   "execution_count": 1,
   "metadata": {},
   "outputs": [],
   "source": [
    "import pandas as pd\n",
    "import pysam"
   ]
  },
  {
   "cell_type": "code",
   "execution_count": 2,
   "metadata": {},
   "outputs": [],
   "source": [
    "col_list = [\"Transcript_ID\",\"Gene_ID\",\"Gene_name\",\"5UTR_length\",\"CDS_length\",\"3UTR_length\"]\n",
    "P_gtf = pd.read_csv('/Data_2/Daehwa/Data_Library/GTF_parsed/v0.7.1/gencode.vM27.annotation.gtf/Processed_gtf.tsv', sep='\\t', usecols=col_list)\n",
    "repre = pd.read_csv('/Data_2/Jun/Adipocytes/references/representative-isoforms.txt', sep='\\t', names=['Gene_ID','Transcript_ID','a','b','c']).drop(columns=['a','b','c'])\n",
    "\n",
    "RPF_abundant = pd.read_csv('/Data_2/Daehwa/Adipocyte/Other_papers/Martinez_etal.2023.Cell_Metabolism/Analysis/Gene_lists/Abundant_genes/v20230706/Martinez_RPF_top100_abundant_genelist.txt', names=['gene_id'])\n",
    "# RNA_abundant = pd.read_csv('/Data_2/Daehwa/Adipocyte/Analysis/Gene_lists/Abundant_genes/v20230529/adi_RNA_top100_abundant_genelist.txt', names=['gene_id'])"
   ]
  },
  {
   "cell_type": "code",
   "execution_count": 3,
   "metadata": {},
   "outputs": [
    {
     "data": {
      "text/plain": [
       "{'ENSMUST00000001547.8': [145, 4362, 1423, 'ENSMUSG00000001506.11', 'Col1a1'],\n",
       " 'ENSMUST00000031668.10': [347, 4119, 882, 'ENSMUSG00000029661.17', 'Col1a2'],\n",
       " 'ENSMUST00000087883.13': [210, 4395, 959, 'ENSMUSG00000026043.19', 'Col3a1'],\n",
       " 'ENSMUST00000029041.6': [65, 399, 432, 'ENSMUSG00000062515.4', 'Fabp4'],\n",
       " 'ENSMUST00000041331.4': [300, 1068, 3464, 'ENSMUSG00000037071.4', 'Scd1'],\n",
       " 'ENSMUST00000073012.13': [18, 2436, 735, 'ENSMUSG00000027750.17', 'Postn'],\n",
       " 'ENSMUST00000055655.9': [527, 7515, 2008, 'ENSMUSG00000025153.10', 'Fasn'],\n",
       " 'ENSMUST00000214685.2': [196, 909, 164, 'ENSMUSG00000018593.14', 'Sparc'],\n",
       " 'ENSMUST00000015712.15': [262, 1425, 2428, 'ENSMUSG00000015568.17', 'Lpl'],\n",
       " 'ENSMUST00000039559.9': [228, 3516, 2104, 'ENSMUSG00000040152.9', 'Thbs1'],\n",
       " 'ENSMUST00000041544.8': [459, 3666, 661, 'ENSMUSG00000064080.13', 'Fbln2'],\n",
       " 'ENSMUST00000055226.13': [193, 7434, 688, 'ENSMUSG00000026193.16', 'Fn1'],\n",
       " 'ENSMUST00000097653.11': [235, 8034, 732, 'ENSMUSG00000048126.17', 'Col6a3'],\n",
       " 'ENSMUST00000033741.15': [172, 1110, 1137, 'ENSMUSG00000031375.18', 'Bgn'],\n",
       " 'ENSMUST00000049149.15': [461, 13638, 789, 'ENSMUSG00000040249.16', 'Lrp1'],\n",
       " 'ENSMUST00000179238.8': [115, 1674, 868, 'ENSMUSG00000004207.15', 'Psap'],\n",
       " 'ENSMUST00000026459.6': [54, 1590, 272, 'ENSMUSG00000025393.13', 'Atp5b'],\n",
       " 'ENSMUST00000169095.6': [275, 1419, 983, 'ENSMUSG00000002944.16', 'Cd36'],\n",
       " 'ENSMUST00000086430.5': [368, 4494, 1763, 'ENSMUSG00000026042.17', 'Col5a2'],\n",
       " 'ENSMUST00000074898.8': [158, 1044, 143, 'ENSMUSG00000031722.11', 'Hp']}"
      ]
     },
     "metadata": {},
     "output_type": "display_data"
    }
   ],
   "source": [
    "DBs = {}\n",
    "\n",
    "DB = pd.merge(repre, P_gtf, on=['Gene_ID','Transcript_ID'])\n",
    "DB = DB.rename(columns = {'Gene_ID':'gene_id',\n",
    "                          'Gene_name':'gene_name',\n",
    "                          'Transcript_ID':'transcript_id'})\n",
    "DB = pd.merge(RPF_abundant, DB, on='gene_id')\n",
    "DB = DB[['transcript_id',\"5UTR_length\",\"CDS_length\",\"3UTR_length\",\"gene_id\",\"gene_name\"]]\n",
    "DB = DB[ DB['CDS_length'] > 300 ]\n",
    "DB = DB.set_index('transcript_id').T.to_dict('list')\n",
    "\n",
    "DBs['RPF'] = DB\n",
    "\n",
    "# DB = pd.merge(repre, P_gtf, on=['Gene_ID','Transcript_ID'])\n",
    "# DB = DB.rename(columns = {'Gene_ID':'gene_id',\n",
    "#                           'Gene_name':'gene_name',\n",
    "#                           'Transcript_ID':'transcript_id'})\n",
    "# DB = pd.merge(RNA_abundant, DB, on='gene_id')\n",
    "# DB = DB[['transcript_id',\"5UTR_length\",\"CDS_length\",\"3UTR_length\",\"gene_id\",\"gene_name\"]]\n",
    "# DB = DB[ DB['CDS_length'] > 300 ]\n",
    "# DB = DB.set_index('transcript_id').T.to_dict('list')\n",
    "\n",
    "# DBs['RNA'] = DB\n",
    "\n",
    "display(dict(list(DB.items())[:20]))"
   ]
  },
  {
   "cell_type": "code",
   "execution_count": 4,
   "metadata": {},
   "outputs": [],
   "source": [
    "prefix = 'Martinez_'\n",
    "#data file\n",
    "folder = '/Data_2/Daehwa/Adipocyte/Other_papers/Martinez_etal.2023.Cell_Metabolism/Alignment/tr-aln'\n",
    "dataset = {'RPF':'RPF'}\n",
    "Conds = ['BG','BR','WH']\n",
    "reps = ['a','b']\n",
    "filetype = \".rep.bam\""
   ]
  },
  {
   "cell_type": "code",
   "execution_count": 6,
   "metadata": {},
   "outputs": [
    {
     "name": "stdout",
     "output_type": "stream",
     "text": [
      "RPF BGa done\n",
      "RPF BGb done\n",
      "RPF BRa done\n",
      "RPF BRb done\n",
      "RPF WHa done\n",
      "RPF WHb done\n"
     ]
    }
   ],
   "source": [
    "out_w = pd.ExcelWriter(prefix+'abundant_metagene.xlsx')\n",
    "for LIB in ['RPF']:\n",
    "    for Cond in Conds:\n",
    "        for rep in reps:\n",
    "            SP = Cond+rep\n",
    "            result_start = {}\n",
    "            result_stop = {}\n",
    "            result_start['transcript_id'] = [str(i) for i in range(-100,201)]\n",
    "            result_stop['transcript_id'] = [str(i) for i in range(-200,101)]\n",
    "            \n",
    "            for T_id in DBs[LIB]:\n",
    "                result_start[T_id] = [0]*len(range(-100,201))\n",
    "                result_stop[T_id]  = [0]*len(range(-200,101))\n",
    "            \n",
    "            f = pysam.AlignmentFile(f'{folder}/{dataset[LIB]}/{prefix}{SP}{filetype}','rb')\n",
    "            for line in f:\n",
    "                line = line.tostring(f)\n",
    "                Aligned = line.split(\"\\t\")\n",
    "                \n",
    "                T_id = Aligned[2]\n",
    "                \n",
    "                if DBs[LIB].get(T_id)==None: continue\n",
    "                P = DBs[LIB][T_id]\n",
    "\n",
    "                start_pos = int( int(Aligned[3])-(P[0]+1) )\n",
    "                stop_pos = int( int(Aligned[3])-(P[0]+P[1]-2) )\n",
    "                if -100 <= start_pos <= 200 :\n",
    "                    result_start[T_id][start_pos+100] += 1\n",
    "                if -200 <= stop_pos <= 100 :\n",
    "                    result_stop[T_id][stop_pos+200] += 1\n",
    "            \n",
    "            print (f'{LIB} {SP} done')\n",
    "\n",
    "            result_start = pd.DataFrame(result_start).T\n",
    "            result_start.to_excel(out_w, sheet_name=f'{LIB}_{SP}_start', header=False)\n",
    "            result_stop = pd.DataFrame(result_stop).T\n",
    "            result_stop.to_excel(out_w, sheet_name=f'{LIB}_{SP}_stop', header=False)\n",
    "out_w.close()"
   ]
  }
 ],
 "metadata": {
  "kernelspec": {
   "display_name": "base",
   "language": "python",
   "name": "python3"
  },
  "language_info": {
   "codemirror_mode": {
    "name": "ipython",
    "version": 3
   },
   "file_extension": ".py",
   "mimetype": "text/x-python",
   "name": "python",
   "nbconvert_exporter": "python",
   "pygments_lexer": "ipython3",
   "version": "3.8.13"
  },
  "orig_nbformat": 4
 },
 "nbformat": 4,
 "nbformat_minor": 2
}
