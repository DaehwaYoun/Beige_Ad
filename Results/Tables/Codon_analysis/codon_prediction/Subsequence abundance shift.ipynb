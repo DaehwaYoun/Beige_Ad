{
 "cells": [
  {
   "cell_type": "code",
   "execution_count": 1,
   "metadata": {},
   "outputs": [],
   "source": [
    "Project = '/Users/daehwa/Library/CloudStorage/OneDrive-Personal/Junlab/Projects/Adipocyte'\n",
    "\n",
    "import pandas as pd"
   ]
  },
  {
   "cell_type": "code",
   "execution_count": 2,
   "metadata": {},
   "outputs": [],
   "source": [
    "prefix = 'adi_'\n",
    "Conds = ['D0','D4','D8'] \n",
    "reps = ['a','b','c']\n",
    "\n",
    "SPs = [Cond+rep for Cond in Conds for rep in reps]"
   ]
  },
  {
   "cell_type": "code",
   "execution_count": 3,
   "metadata": {},
   "outputs": [
    {
     "name": "stdout",
     "output_type": "stream",
     "text": [
      "D0a 8406\n",
      "D0b 8108\n",
      "D0c 8423\n",
      "D4a 9037\n",
      "D4b 8919\n",
      "D4c 9107\n",
      "D8a 8840\n",
      "D8b 8911\n",
      "D8c 9082\n",
      "Gene number after filtering : 7215\n"
     ]
    }
   ],
   "source": [
    "# Select genes have at least N (cutoff) reads for all samples\n",
    "cutoff = 200\n",
    "\n",
    "genelist = pd.DataFrame()\n",
    "for SP in SPs:\n",
    "    data = pd.read_excel(f'/Users/daehwa/Library/CloudStorage/OneDrive-Personal/Junlab/Projects/Adipocyte/Results/Tables/Codon_analysis/codon_prediction/v20220913/{prefix}A-codon-Pred.xlsx', sheet_name=SP)\n",
    "    data = data.set_index('transcript_id', drop=True)\n",
    "    data = data[ data.sum(axis=1) > cutoff ]\n",
    "    \n",
    "    print(SP+' '+str(len(data)))\n",
    "    \n",
    "    if SP == 'D0a' : \n",
    "        genelist['transcript_id'] = data.reset_index()['transcript_id']\n",
    "    else :\n",
    "        genelist = pd.merge(genelist, data.reset_index()[['transcript_id']], on='transcript_id')\n",
    "            \n",
    "print('Gene number after filtering : '+str(len(genelist)))"
   ]
  },
  {
   "cell_type": "code",
   "execution_count": 4,
   "metadata": {},
   "outputs": [
    {
     "name": "stdout",
     "output_type": "stream",
     "text": [
      "D4a P done\n",
      "D4b P done\n",
      "D4c P done\n",
      "D8a P done\n",
      "D8b P done\n",
      "D8c P done\n",
      "D4a A done\n",
      "D4b A done\n",
      "D4c A done\n",
      "D8a A done\n",
      "D8b A done\n",
      "D8c A done\n"
     ]
    }
   ],
   "source": [
    "for site in ['P','A']:\n",
    "    result = pd.DataFrame()\n",
    "    result['codon'] = [a+b+c for a in ['U','C','A','G'] for b in ['U','C','A','G'] for c in ['U','C','A','G']]\n",
    "    for SP in SPs[3:]:\n",
    "        ctl_data = pd.read_excel(f'/Users/daehwa/Library/CloudStorage/OneDrive-Personal/Junlab/Projects/Adipocyte/Results/Tables/Codon_analysis/codon_prediction/v20220913/{prefix}{site}-codon-Pred.xlsx', sheet_name='D0'+SP[2])\n",
    "        ctl_data = pd.merge(genelist, ctl_data, on='transcript_id').set_index('transcript_id', drop=True).T\n",
    "        \n",
    "        ctl_data2 = ctl_data.copy()\n",
    "        for ID in ctl_data:\n",
    "            ctl_data2[ID] =  ctl_data[ID] / ctl_data[ID].sum()\n",
    "        ctl_data2 = ctl_data2.T\n",
    "\n",
    "        data = pd.read_excel(f'/Users/daehwa/Library/CloudStorage/OneDrive-Personal/Junlab/Projects/Adipocyte/Results/Tables/Codon_analysis/codon_prediction/v20220913/{prefix}{site}-codon-Pred.xlsx', sheet_name=SP)        \n",
    "        data = pd.merge(genelist, data, on='transcript_id').set_index('transcript_id', drop=True).T\n",
    "        \n",
    "        data2 = data.copy()\n",
    "        for ID in data:\n",
    "            data2[ID] =  data[ID] / data[ID].sum()\n",
    "        data2 = data2.T\n",
    "        \n",
    "        FC = (data2 - ctl_data2)*100\n",
    "        \n",
    "        means = []\n",
    "        for codon in FC:\n",
    "            means.append( FC[codon].mean() )\n",
    "        \n",
    "        result[SP] = means\n",
    "        print(f'{SP} {site} done')\n",
    "            \n",
    "    result.to_csv(f'Subsequence abundance shift_{site}-site.tsv', sep='\\t', index=False)"
   ]
  }
 ],
 "metadata": {
  "kernelspec": {
   "display_name": "univ",
   "language": "python",
   "name": "python3"
  },
  "language_info": {
   "codemirror_mode": {
    "name": "ipython",
    "version": 3
   },
   "file_extension": ".py",
   "mimetype": "text/x-python",
   "name": "python",
   "nbconvert_exporter": "python",
   "pygments_lexer": "ipython3",
   "version": "3.9.16"
  },
  "orig_nbformat": 4
 },
 "nbformat": 4,
 "nbformat_minor": 2
}
