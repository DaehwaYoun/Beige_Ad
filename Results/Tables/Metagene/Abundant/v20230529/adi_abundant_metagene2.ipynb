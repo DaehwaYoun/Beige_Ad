{
 "cells": [
  {
   "cell_type": "code",
   "execution_count": 1,
   "metadata": {},
   "outputs": [],
   "source": [
    "import pandas as pd\n",
    "import pysam"
   ]
  },
  {
   "cell_type": "code",
   "execution_count": 2,
   "metadata": {},
   "outputs": [],
   "source": [
    "col_list = [\"Transcript_ID\",\"Gene_ID\",\"Gene_name\",\"5UTR_length\",\"CDS_length\",\"3UTR_length\"]\n",
    "P_gtf = pd.read_csv('/Data_2/Daehwa/Data_Library/GTF_parsed/v0.7.1/gencode.vM27.annotation.gtf/Processed_gtf.tsv', sep='\\t', usecols=col_list)\n",
    "repre = pd.read_csv('/Data_2/Jun/Adipocytes/references/representative-isoforms.txt', sep='\\t', names=['Gene_ID','Transcript_ID','a','b','c']).drop(columns=['a','b','c'])\n",
    "\n",
    "RPF_abundant = pd.read_csv('/Data_2/Daehwa/Adipocyte/Analysis/Gene_lists/Abundant_genes/v20230529/adi_RPF_top100_abundant_genelist.txt', names=['gene_id'])\n",
    "RNA_abundant = pd.read_csv('/Data_2/Daehwa/Adipocyte/Analysis/Gene_lists/Abundant_genes/v20230529/adi_RNA_top100_abundant_genelist.txt', names=['gene_id'])"
   ]
  },
  {
   "cell_type": "code",
   "execution_count": 3,
   "metadata": {},
   "outputs": [
    {
     "data": {
      "text/plain": [
       "{'ENSMUST00000082402.1': [0, 1545, 0, 'ENSMUSG00000064351.1', 'mt-Co1'],\n",
       " 'ENSMUST00000041331.4': [300, 1068, 3464, 'ENSMUSG00000037071.4', 'Scd1'],\n",
       " 'ENSMUST00000029041.6': [65, 399, 432, 'ENSMUSG00000062515.4', 'Fabp4'],\n",
       " 'ENSMUST00000042235.15': [120, 1389, 285, 'ENSMUSG00000037742.15', 'Eef1a1'],\n",
       " 'ENSMUST00000001547.8': [145, 4362, 1423, 'ENSMUSG00000001506.11', 'Col1a1'],\n",
       " 'ENSMUST00000214685.2': [196, 909, 164, 'ENSMUSG00000018593.14', 'Sparc'],\n",
       " 'ENSMUST00000033741.15': [172, 1110, 1137, 'ENSMUSG00000031375.18', 'Bgn'],\n",
       " 'ENSMUST00000031668.10': [347, 4119, 882, 'ENSMUSG00000029661.17', 'Col1a2'],\n",
       " 'ENSMUST00000087883.13': [210, 4395, 959, 'ENSMUSG00000026043.19', 'Col3a1'],\n",
       " 'ENSMUST00000032934.12': [231, 1095, 185, 'ENSMUSG00000030695.17', 'Aldoa'],\n",
       " 'ENSMUST00000047864.11': [96, 2577, 416, 'ENSMUSG00000034994.11', 'Eef2'],\n",
       " 'ENSMUST00000082392.1': [0, 957, 0, 'ENSMUSG00000064341.1', 'mt-Nd1'],\n",
       " 'ENSMUST00000082421.1': [0, 1144, 0, 'ENSMUSG00000064370.1', 'mt-Cytb'],\n",
       " 'ENSMUST00000073605.15': [92, 1002, 178, 'ENSMUSG00000057666.19', 'Gapdh'],\n",
       " 'ENSMUST00000067036.12': [18, 1170, 338, 'ENSMUSG00000023175.16', 'Bsg'],\n",
       " 'ENSMUST00000235196.2': [795, 549, 150, 'ENSMUSG00000024661.8', 'Fth1'],\n",
       " 'ENSMUST00000201185.4': [187, 2196, 224, 'ENSMUSG00000026879.15', 'Gsn'],\n",
       " 'ENSMUST00000026459.6': [54, 1590, 272, 'ENSMUSG00000025393.13', 'Atp5b'],\n",
       " 'ENSMUST00000086519.12': [121, 954, 283, 'ENSMUSG00000067274.11', 'Rplp0'],\n",
       " 'ENSMUST00000094434.13': [253, 552, 163, 'ENSMUSG00000050708.17', 'Ftl1']}"
      ]
     },
     "metadata": {},
     "output_type": "display_data"
    }
   ],
   "source": [
    "DBs = {}\n",
    "\n",
    "DB = pd.merge(repre, P_gtf, on=['Gene_ID','Transcript_ID'])\n",
    "DB = DB.rename(columns = {'Gene_ID':'gene_id',\n",
    "                          'Gene_name':'gene_name',\n",
    "                          'Transcript_ID':'transcript_id'})\n",
    "DB = pd.merge(RPF_abundant, DB, on='gene_id')\n",
    "DB = DB[['transcript_id',\"5UTR_length\",\"CDS_length\",\"3UTR_length\",\"gene_id\",\"gene_name\"]]\n",
    "DB = DB[ DB['CDS_length'] > 300 ]\n",
    "DB = DB.set_index('transcript_id').T.to_dict('list')\n",
    "\n",
    "DBs['RPF'] = DB\n",
    "\n",
    "#\n",
    "DB = pd.merge(repre, P_gtf, on=['Gene_ID','Transcript_ID'])\n",
    "DB = DB.rename(columns = {'Gene_ID':'gene_id',\n",
    "                          'Gene_name':'gene_name',\n",
    "                          'Transcript_ID':'transcript_id'})\n",
    "DB = pd.merge(RNA_abundant, DB, on='gene_id')\n",
    "DB = DB[['transcript_id',\"5UTR_length\",\"CDS_length\",\"3UTR_length\",\"gene_id\",\"gene_name\"]]\n",
    "DB = DB[ DB['CDS_length'] > 300 ]\n",
    "DB = DB.set_index('transcript_id').T.to_dict('list')\n",
    "\n",
    "DBs['RNA'] = DB\n",
    "\n",
    "display(dict(list(DB.items())[:20]))"
   ]
  },
  {
   "cell_type": "code",
   "execution_count": 4,
   "metadata": {},
   "outputs": [],
   "source": [
    "prefix = 'adi_'\n",
    "#data file\n",
    "folder = '/Data_2/Jun/Adipocytes/tr-aln'\n",
    "dataset = {'RNA':'RNA', 'RPF':'novaseq'}\n",
    "days = ['D0','D4','D8']\n",
    "reps = ['a','b','c']\n",
    "filetype = \".rep.bam\""
   ]
  },
  {
   "cell_type": "code",
   "execution_count": 5,
   "metadata": {},
   "outputs": [
    {
     "name": "stdout",
     "output_type": "stream",
     "text": [
      "RNA D0a done\n",
      "RNA D0b done\n",
      "RNA D0c done\n",
      "RNA D4a done\n",
      "RNA D4b done\n",
      "RNA D4c done\n",
      "RNA D8a done\n",
      "RNA D8b done\n",
      "RNA D8c done\n",
      "RPF D0a done\n",
      "RPF D0b done\n",
      "RPF D0c done\n",
      "RPF D4a done\n",
      "RPF D4b done\n",
      "RPF D4c done\n",
      "RPF D8a done\n",
      "RPF D8b done\n",
      "RPF D8c done\n"
     ]
    }
   ],
   "source": [
    "out_w = pd.ExcelWriter('adi_abundant_metagene2.xlsx')\n",
    "for LIB in ['RNA','RPF']:\n",
    "    for day in days:\n",
    "        for rep in reps:\n",
    "            SP = day+rep\n",
    "            result_start = {}\n",
    "            result_stop = {}\n",
    "            result_start['transcript_id'] = [str(i) for i in range(-100,201)]\n",
    "            result_stop['transcript_id'] = [str(i) for i in range(-200,101)]\n",
    "            \n",
    "            for T_id in DBs[LIB]:\n",
    "                result_start[T_id] = [0]*len(range(-100,201))\n",
    "                result_stop[T_id]  = [0]*len(range(-200,101))\n",
    "            \n",
    "            f = pysam.AlignmentFile(f'{folder}/{dataset[LIB]}/{SP}{filetype}','rb')\n",
    "            for line in f:\n",
    "                line = line.tostring(f)\n",
    "                Aligned = line.split(\"\\t\")\n",
    "                \n",
    "                T_id = Aligned[2]\n",
    "                \n",
    "                if DBs[LIB].get(T_id)==None: continue\n",
    "                P = DBs[LIB][T_id]\n",
    "\n",
    "                start_pos = int( int(Aligned[3])-(P[0]+1) )\n",
    "                stop_pos = int( int(Aligned[3])-(P[0]+P[1]-2) )\n",
    "                if -100 <= start_pos <= 200 :\n",
    "                    result_start[T_id][start_pos+100] += 1\n",
    "                if -200 <= stop_pos <= 100 :\n",
    "                    result_stop[T_id][stop_pos+200] += 1\n",
    "            \n",
    "            print (f'{LIB} {SP} done')\n",
    "\n",
    "            result_start = pd.DataFrame(result_start).T\n",
    "            result_start.to_excel(out_w, sheet_name=f'{LIB}_{SP}_start', header=False)\n",
    "            result_stop = pd.DataFrame(result_stop).T\n",
    "            result_stop.to_excel(out_w, sheet_name=f'{LIB}_{SP}_stop', header=False)\n",
    "out_w.close()"
   ]
  }
 ],
 "metadata": {
  "kernelspec": {
   "display_name": "base",
   "language": "python",
   "name": "python3"
  },
  "language_info": {
   "codemirror_mode": {
    "name": "ipython",
    "version": 3
   },
   "file_extension": ".py",
   "mimetype": "text/x-python",
   "name": "python",
   "nbconvert_exporter": "python",
   "pygments_lexer": "ipython3",
   "version": "3.8.13"
  },
  "orig_nbformat": 4
 },
 "nbformat": 4,
 "nbformat_minor": 2
}
