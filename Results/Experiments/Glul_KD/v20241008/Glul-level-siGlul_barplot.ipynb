{
 "cells": [
  {
   "cell_type": "code",
   "execution_count": 2,
   "metadata": {},
   "outputs": [],
   "source": [
    "Project = '/Users/daehwa/Library/CloudStorage/OneDrive-Personal/Junlab/Projects/Adipocyte'\n",
    "\n",
    "import pandas as pd\n",
    "import numpy as np\n",
    "import matplotlib.pyplot as plt\n",
    "import matplotlib as mpl\n",
    "import seaborn as sns\n",
    "\n",
    "plt.rcParams.update(plt.rcParamsDefault)\n",
    "\n",
    "mpl.rcParams['font.sans-serif'] = \"Arial\"\n",
    "mpl.rcParams['font.family'] = \"sans-serif\"\n",
    "\n",
    "plt.rcParams['ps.useafm']=True\n",
    "plt.rcParams['pdf.fonttype']=42\n",
    "\n",
    "plt.rc('font', size=7)          # controls default text sizes\n",
    "plt.rc('axes', titlesize=7)     # fontsize of the axes title\n",
    "plt.rc('axes', labelsize=7)    # fontsize of the x and y labels\n",
    "plt.rc('xtick', labelsize=6)    # fontsize of the tick labels\n",
    "plt.rc('ytick', labelsize=6)    # fontsize of the tick labels\n",
    "plt.rc('legend', fontsize=6)    # legend fontsize\n",
    "suptitlesize = 7\n",
    "\n",
    "plt.rc('axes', axisbelow=True) #push axes to back\n",
    "mpl.rcParams['axes.linewidth'] = 0.5"
   ]
  },
  {
   "cell_type": "code",
   "execution_count": 3,
   "metadata": {},
   "outputs": [
    {
     "data": {
      "text/plain": [
       "{'D0_siCtl': [0.983684013, 1.016586614],\n",
       " 'D0_siGlul': [0.366327187, 0.306435916]}"
      ]
     },
     "metadata": {},
     "output_type": "display_data"
    },
    {
     "data": {
      "text/html": [
       "<div>\n",
       "<style scoped>\n",
       "    .dataframe tbody tr th:only-of-type {\n",
       "        vertical-align: middle;\n",
       "    }\n",
       "\n",
       "    .dataframe tbody tr th {\n",
       "        vertical-align: top;\n",
       "    }\n",
       "\n",
       "    .dataframe thead th {\n",
       "        text-align: right;\n",
       "    }\n",
       "</style>\n",
       "<table border=\"1\" class=\"dataframe\">\n",
       "  <thead>\n",
       "    <tr style=\"text-align: right;\">\n",
       "      <th></th>\n",
       "      <th>Cond</th>\n",
       "      <th>Glu/Gln</th>\n",
       "    </tr>\n",
       "  </thead>\n",
       "  <tbody>\n",
       "    <tr>\n",
       "      <th>0</th>\n",
       "      <td>D0_siCtl</td>\n",
       "      <td>0.983684</td>\n",
       "    </tr>\n",
       "    <tr>\n",
       "      <th>1</th>\n",
       "      <td>D0_siCtl</td>\n",
       "      <td>1.016587</td>\n",
       "    </tr>\n",
       "    <tr>\n",
       "      <th>2</th>\n",
       "      <td>D0_siGlul</td>\n",
       "      <td>0.366327</td>\n",
       "    </tr>\n",
       "    <tr>\n",
       "      <th>3</th>\n",
       "      <td>D0_siGlul</td>\n",
       "      <td>0.306436</td>\n",
       "    </tr>\n",
       "  </tbody>\n",
       "</table>\n",
       "</div>"
      ],
      "text/plain": [
       "        Cond   Glu/Gln\n",
       "0   D0_siCtl  0.983684\n",
       "1   D0_siCtl  1.016587\n",
       "2  D0_siGlul  0.366327\n",
       "3  D0_siGlul  0.306436"
      ]
     },
     "metadata": {},
     "output_type": "display_data"
    }
   ],
   "source": [
    "data = pd.read_csv(f'{Project}/Documents/Revision_prep/Experiments/Glul_KO_KD/KD/v20241008/Glul-level-siGlul_result.tsv', sep='\\t')\n",
    "data_dict = {k: list(v) for k, v in data.groupby('Cond')['Glu/Gln']}\n",
    "\n",
    "display(data_dict, data)"
   ]
  },
  {
   "cell_type": "code",
   "execution_count": 4,
   "metadata": {},
   "outputs": [
    {
     "name": "stderr",
     "output_type": "stream",
     "text": [
      "/var/folders/ct/z73cq4_j2g5612tltg_pmxxc0000gn/T/ipykernel_85432/2416580090.py:26: FutureWarning: \n",
      "\n",
      "Passing `palette` without assigning `hue` is deprecated and will be removed in v0.14.0. Assign the `x` variable to `hue` and set `legend=False` for the same effect.\n",
      "\n",
      "  sns.barplot(data=data, x=\"Cond\", y='Glu/Gln',\n",
      "/var/folders/ct/z73cq4_j2g5612tltg_pmxxc0000gn/T/ipykernel_85432/2416580090.py:33: FutureWarning: \n",
      "\n",
      "Passing `palette` without assigning `hue` is deprecated and will be removed in v0.14.0. Assign the `x` variable to `hue` and set `legend=False` for the same effect.\n",
      "\n",
      "  sns.stripplot(data=data, x=\"Cond\", y='Glu/Gln',\n"
     ]
    },
    {
     "data": {
      "image/png": "[encoded data removed]",
      "text/plain": [
       "<Figure size 94.2857x300 with 1 Axes>"
      ]
     },
     "metadata": {},
     "output_type": "display_data"
    },
    {
     "data": {
      "text/plain": [
       "<Figure size 640x480 with 0 Axes>"
      ]
     },
     "metadata": {},
     "output_type": "display_data"
    }
   ],
   "source": [
    "err_kw = dict(lw=0.5, capsize=3, capthick=0.5)\n",
    "\n",
    "sF = 1 # Size factor\n",
    "wgap = 0.25\n",
    "hgap = 0.1\n",
    "nrow, ncol = 1, 1\n",
    "\n",
    "width_ratios = [1/7*2 +1/70*2]\n",
    "height_ratios = [1]\n",
    "\n",
    "fs_w = sum(np.array(width_ratios)*sF) + (ncol-1)*wgap*sF\n",
    "fs_h = sum(np.array(height_ratios)*sF) + (nrow-1)*hgap*sF\n",
    "\n",
    "#\n",
    "fig = plt.figure(figsize=( fs_w, fs_h ), dpi=300)\n",
    "grid = plt.GridSpec(nrow, ncol,\n",
    "                    width_ratios=width_ratios,\n",
    "                    height_ratios=height_ratios,\n",
    "                    wspace=wgap/np.average(width_ratios), \n",
    "                    hspace=hgap/np.average(height_ratios),\n",
    "                    left=0, right=1, bottom=0, top=1)\n",
    "\n",
    "\n",
    "ax = fig.add_subplot(grid[0,0])\n",
    "\n",
    "sns.barplot(data=data, x=\"Cond\", y='Glu/Gln',\n",
    "            palette=['#DDDDDD','#DDDDDD'], saturation=1,\n",
    "            width=0.8,\n",
    "            errorbar='sd', err_kws={\"linewidth\": 0.3}, capsize=.3,\n",
    "            ax=ax, linewidth = 0.3, edgecolor='k',\n",
    "            legend=False)\n",
    "\n",
    "sns.stripplot(data=data, x=\"Cond\", y='Glu/Gln',\n",
    "            palette=['#DDDDDD','#DDDDDD'],\n",
    "            size=2, linewidth=0.3, edgecolor='k',\n",
    "            jitter=False,\n",
    "            legend=False)\n",
    "\n",
    "ax.set_xlim(-0.6, 1.6)\n",
    "ax.set_xticks(range(2))\n",
    "ax.set_yticks([0,0.5,1])\n",
    "ax.set_xticklabels(['siControl','siGlul'], rotation=-45, ha='left')\n",
    "ax.set_yticklabels([0,0.5,1])\n",
    "ax.tick_params(width=0.5, length=3, pad=1)\n",
    "ax.tick_params(axis='x', length=0, pad=4)\n",
    "\n",
    "ax.set_xlabel('')\n",
    "ax.set_ylabel('Relative mRNA levels', labelpad=2)\n",
    "\n",
    "ax.spines['top'].set_visible(False)\n",
    "ax.spines['right'].set_visible(False)\n",
    "# ax.spines['bottom'].set_visible(False)\n",
    "# ax.spines['left'].set_visible(False)\n",
    "\n",
    "# Unpaired T-test\n",
    "from scipy import stats\n",
    "stat, pv = stats.ttest_ind(data_dict['D0_siCtl'], data_dict['D0_siGlul'])\n",
    "ax.text(1, 1.1,f'{pv:.2E}', horizontalalignment='center', verticalalignment='bottom', fontsize=6, color='k', rotation=45)\n",
    "\n",
    "plt.savefig('Glul-level-siGlul_barplot.pdf', bbox_inches='tight')\n",
    "plt.show()\n",
    "plt.clf()"
   ]
  }
 ],
 "metadata": {
  "kernelspec": {
   "display_name": "univ",
   "language": "python",
   "name": "python3"
  },
  "language_info": {
   "codemirror_mode": {
    "name": "ipython",
    "version": 3
   },
   "file_extension": ".py",
   "mimetype": "text/x-python",
   "name": "python",
   "nbconvert_exporter": "python",
   "pygments_lexer": "ipython3",
   "version": "3.9.16"
  },
  "orig_nbformat": 4,
  "vscode": {
   "interpreter": {
    "hash": "eba52225b887c4eec69682e09ea212a85a2d381d1bf9c1a0f5a489ceed86625b"
   }
  }
 },
 "nbformat": 4,
 "nbformat_minor": 2
}
