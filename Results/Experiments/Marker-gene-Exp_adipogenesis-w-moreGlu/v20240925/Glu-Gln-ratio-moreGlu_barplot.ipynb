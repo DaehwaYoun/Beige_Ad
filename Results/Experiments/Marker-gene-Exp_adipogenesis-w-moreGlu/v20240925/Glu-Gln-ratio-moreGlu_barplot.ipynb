{
 "cells": [
  {
   "cell_type": "code",
   "execution_count": 1,
   "metadata": {},
   "outputs": [],
   "source": [
    "Project = '/Users/daehwa/Library/CloudStorage/OneDrive-Personal/Junlab/Projects/Adipocyte'\n",
    "\n",
    "import pandas as pd\n",
    "import numpy as np\n",
    "import matplotlib.pyplot as plt\n",
    "import matplotlib as mpl\n",
    "import seaborn as sns\n",
    "\n",
    "plt.rcParams.update(plt.rcParamsDefault)\n",
    "\n",
    "mpl.rcParams['font.sans-serif'] = \"Arial\"\n",
    "mpl.rcParams['font.family'] = \"sans-serif\"\n",
    "\n",
    "plt.rcParams['ps.useafm']=True\n",
    "plt.rcParams['pdf.fonttype']=42\n",
    "\n",
    "plt.rc('font', size=7)          # controls default text sizes\n",
    "plt.rc('axes', titlesize=8)     # fontsize of the axes title\n",
    "plt.rc('axes', labelsize=8)    # fontsize of the x and y labels\n",
    "plt.rc('xtick', labelsize=6)    # fontsize of the tick labels\n",
    "plt.rc('ytick', labelsize=6)    # fontsize of the tick labels\n",
    "plt.rc('legend', fontsize=6)    # legend fontsize\n",
    "suptitlesize = 8\n",
    "\n",
    "plt.rc('axes', axisbelow=True) #push axes to back\n",
    "mpl.rcParams['axes.linewidth'] = 0.5"
   ]
  },
  {
   "cell_type": "code",
   "execution_count": 2,
   "metadata": {},
   "outputs": [
    {
     "data": {
      "text/plain": [
       "{'D0_Glu': [1.130381, 1.14659, 1.431124],\n",
       " 'D0_none': [1.179255, 1.411856, 1.206107],\n",
       " 'D4_Glu': [1.100791, 1.386663, 1.620495],\n",
       " 'D4_none': [0.51765, 0.678928, 0.446369]}"
      ]
     },
     "metadata": {},
     "output_type": "display_data"
    },
    {
     "data": {
      "text/html": [
       "<div>\n",
       "<style scoped>\n",
       "    .dataframe tbody tr th:only-of-type {\n",
       "        vertical-align: middle;\n",
       "    }\n",
       "\n",
       "    .dataframe tbody tr th {\n",
       "        vertical-align: top;\n",
       "    }\n",
       "\n",
       "    .dataframe thead th {\n",
       "        text-align: right;\n",
       "    }\n",
       "</style>\n",
       "<table border=\"1\" class=\"dataframe\">\n",
       "  <thead>\n",
       "    <tr style=\"text-align: right;\">\n",
       "      <th></th>\n",
       "      <th>Cond</th>\n",
       "      <th>Glu/Gln</th>\n",
       "    </tr>\n",
       "  </thead>\n",
       "  <tbody>\n",
       "    <tr>\n",
       "      <th>0</th>\n",
       "      <td>D0_none</td>\n",
       "      <td>1.179255</td>\n",
       "    </tr>\n",
       "    <tr>\n",
       "      <th>1</th>\n",
       "      <td>D0_none</td>\n",
       "      <td>1.411856</td>\n",
       "    </tr>\n",
       "    <tr>\n",
       "      <th>2</th>\n",
       "      <td>D0_none</td>\n",
       "      <td>1.206107</td>\n",
       "    </tr>\n",
       "    <tr>\n",
       "      <th>3</th>\n",
       "      <td>D0_Glu</td>\n",
       "      <td>1.130381</td>\n",
       "    </tr>\n",
       "    <tr>\n",
       "      <th>4</th>\n",
       "      <td>D0_Glu</td>\n",
       "      <td>1.146590</td>\n",
       "    </tr>\n",
       "    <tr>\n",
       "      <th>5</th>\n",
       "      <td>D0_Glu</td>\n",
       "      <td>1.431124</td>\n",
       "    </tr>\n",
       "    <tr>\n",
       "      <th>6</th>\n",
       "      <td>D4_none</td>\n",
       "      <td>0.517650</td>\n",
       "    </tr>\n",
       "    <tr>\n",
       "      <th>7</th>\n",
       "      <td>D4_none</td>\n",
       "      <td>0.678928</td>\n",
       "    </tr>\n",
       "    <tr>\n",
       "      <th>8</th>\n",
       "      <td>D4_none</td>\n",
       "      <td>0.446369</td>\n",
       "    </tr>\n",
       "    <tr>\n",
       "      <th>9</th>\n",
       "      <td>D4_Glu</td>\n",
       "      <td>1.100791</td>\n",
       "    </tr>\n",
       "    <tr>\n",
       "      <th>10</th>\n",
       "      <td>D4_Glu</td>\n",
       "      <td>1.386663</td>\n",
       "    </tr>\n",
       "    <tr>\n",
       "      <th>11</th>\n",
       "      <td>D4_Glu</td>\n",
       "      <td>1.620495</td>\n",
       "    </tr>\n",
       "  </tbody>\n",
       "</table>\n",
       "</div>"
      ],
      "text/plain": [
       "       Cond   Glu/Gln\n",
       "0   D0_none  1.179255\n",
       "1   D0_none  1.411856\n",
       "2   D0_none  1.206107\n",
       "3    D0_Glu  1.130381\n",
       "4    D0_Glu  1.146590\n",
       "5    D0_Glu  1.431124\n",
       "6   D4_none  0.517650\n",
       "7   D4_none  0.678928\n",
       "8   D4_none  0.446369\n",
       "9    D4_Glu  1.100791\n",
       "10   D4_Glu  1.386663\n",
       "11   D4_Glu  1.620495"
      ]
     },
     "metadata": {},
     "output_type": "display_data"
    }
   ],
   "source": [
    "data = pd.read_csv(f'{Project}/Documents/Revision_prep/Experiments/Marker-gene-Exp_adipogenesis-w-moreGlu/v20240925/Glu-Gln-ratio-moreGlu_result.tsv', sep='\\t')\n",
    "data_dict = {k: list(v) for k, v in data.groupby('Cond')['Glu/Gln']}\n",
    "\n",
    "display(data_dict, data)"
   ]
  },
  {
   "cell_type": "code",
   "execution_count": 14,
   "metadata": {},
   "outputs": [
    {
     "name": "stderr",
     "output_type": "stream",
     "text": [
      "/var/folders/ct/z73cq4_j2g5612tltg_pmxxc0000gn/T/ipykernel_97304/3627344802.py:26: FutureWarning: \n",
      "\n",
      "Passing `palette` without assigning `hue` is deprecated and will be removed in v0.14.0. Assign the `x` variable to `hue` and set `legend=False` for the same effect.\n",
      "\n",
      "  sns.barplot(data=data, x=\"Cond\", y='Glu/Gln',\n",
      "/var/folders/ct/z73cq4_j2g5612tltg_pmxxc0000gn/T/ipykernel_97304/3627344802.py:33: FutureWarning: \n",
      "\n",
      "Passing `palette` without assigning `hue` is deprecated and will be removed in v0.14.0. Assign the `x` variable to `hue` and set `legend=False` for the same effect.\n",
      "\n",
      "  sns.stripplot(data=data, x=\"Cond\", y='Glu/Gln',\n"
     ]
    },
    {
     "data": {
      "image/png": "[encoded data removed]",
      "text/plain": [
       "<Figure size 180x300 with 1 Axes>"
      ]
     },
     "metadata": {},
     "output_type": "display_data"
    },
    {
     "data": {
      "text/plain": [
       "<Figure size 640x480 with 0 Axes>"
      ]
     },
     "metadata": {},
     "output_type": "display_data"
    }
   ],
   "source": [
    "err_kw = dict(lw=0.5, capsize=3, capthick=0.5)\n",
    "\n",
    "sF = 1 # Size factor\n",
    "wgap = 0.25\n",
    "hgap = 0.1\n",
    "nrow, ncol = 1, 1\n",
    "\n",
    "width_ratios = [1/7*4 +1/70*2]\n",
    "height_ratios = [1]\n",
    "\n",
    "fs_w = sum(np.array(width_ratios)*sF) + (ncol-1)*wgap*sF\n",
    "fs_h = sum(np.array(height_ratios)*sF) + (nrow-1)*hgap*sF\n",
    "\n",
    "#\n",
    "fig = plt.figure(figsize=( fs_w, fs_h ), dpi=300)\n",
    "grid = plt.GridSpec(nrow, ncol,\n",
    "                    width_ratios=width_ratios,\n",
    "                    height_ratios=height_ratios,\n",
    "                    wspace=wgap/np.average(width_ratios), \n",
    "                    hspace=hgap/np.average(height_ratios),\n",
    "                    left=0, right=1, bottom=0, top=1)\n",
    "\n",
    "\n",
    "ax = fig.add_subplot(grid[0,0])\n",
    "\n",
    "sns.barplot(data=data, x=\"Cond\", y='Glu/Gln',\n",
    "            palette=['#DDDDDD','#DDDDDD','#FFCC88','#FFCC88'], saturation=1,\n",
    "            width=0.8,\n",
    "            errorbar='sd', err_kws={\"linewidth\": 0.3}, capsize=.3,\n",
    "            ax=ax, linewidth = 0.3, edgecolor='k',\n",
    "            legend=False)\n",
    "\n",
    "sns.stripplot(data=data, x=\"Cond\", y='Glu/Gln',\n",
    "            palette=['#DDDDDD','#DDDDDD','#FFCC88','#FFCC88'],\n",
    "            size=2, linewidth=0.3, edgecolor='k',\n",
    "            jitter=False,\n",
    "            legend=False)\n",
    "\n",
    "ax.set_xlim(-0.6, 3.6)\n",
    "ax.set_xticks(range(4))\n",
    "ax.set_yticks([0, 0.5, 1, 1.5])\n",
    "ax.set_xticklabels(['0d\\n-','0d\\n+','4d\\n-','4d\\n+'], rotation=0)\n",
    "ax.set_yticklabels([0, 0.5, 1, 1.5])\n",
    "ax.tick_params(width=0.5, length=3, pad=1)\n",
    "ax.tick_params(axis='x', length=0, pad=4)\n",
    "ax.text(0, -0.07, 'Diff.', transform=ax.transAxes, ha='right', va='top', fontsize=6)\n",
    "ax.text(0, -0.16, 'Glu+', transform=ax.transAxes, ha='right', va='top', fontsize=6)\n",
    "\n",
    "ax.set_xlabel('')\n",
    "ax.set_ylabel('Glu/Gln ratio', labelpad=2)\n",
    "\n",
    "ax.spines['top'].set_visible(False)\n",
    "ax.spines['right'].set_visible(False)\n",
    "# ax.spines['bottom'].set_visible(False)\n",
    "# ax.spines['left'].set_visible(False)\n",
    "\n",
    "\n",
    "plt.savefig('Glu-Gln-ratio-moreGlu_barplot.pdf', bbox_inches='tight')\n",
    "plt.show()\n",
    "plt.clf()"
   ]
  },
  {
   "cell_type": "code",
   "execution_count": 5,
   "metadata": {},
   "outputs": [
    {
     "name": "stdout",
     "output_type": "stream",
     "text": [
      "0.2430913432727914 0.8198917636263683\n",
      "7.134830892292748 0.0020406962498879157\n",
      "-4.97160284690083 0.007642777780828374\n"
     ]
    }
   ],
   "source": [
    "# Unpaired T-test\n",
    "from scipy import stats\n",
    "\n",
    "stat, pv = stats.ttest_ind(data[data['Cond']=='D0_none']['Glu/Gln'], \n",
    "                           data[data['Cond']=='D0_Glu']['Glu/Gln'])\n",
    "print(stat, pv)\n",
    "\n",
    "stat, pv = stats.ttest_ind(data[data['Cond']=='D0_none']['Glu/Gln'], \n",
    "                           data[data['Cond']=='D4_none']['Glu/Gln'])\n",
    "print(stat, pv)\n",
    "\n",
    "stat, pv = stats.ttest_ind(data[data['Cond']=='D4_none']['Glu/Gln'], \n",
    "                           data[data['Cond']=='D4_Glu']['Glu/Gln'])\n",
    "print(stat, pv)"
   ]
  }
 ],
 "metadata": {
  "kernelspec": {
   "display_name": "univ",
   "language": "python",
   "name": "python3"
  },
  "language_info": {
   "codemirror_mode": {
    "name": "ipython",
    "version": 3
   },
   "file_extension": ".py",
   "mimetype": "text/x-python",
   "name": "python",
   "nbconvert_exporter": "python",
   "pygments_lexer": "ipython3",
   "version": "3.9.16"
  },
  "orig_nbformat": 4,
  "vscode": {
   "interpreter": {
    "hash": "eba52225b887c4eec69682e09ea212a85a2d381d1bf9c1a0f5a489ceed86625b"
   }
  }
 },
 "nbformat": 4,
 "nbformat_minor": 2
}
